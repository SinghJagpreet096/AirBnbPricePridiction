{
 "cells": [
  {
   "cell_type": "markdown",
   "metadata": {},
   "source": [
    "# AirBnb Price Prediction\n",
    "- Understanding problem statement\n",
    "- Data Collection\n",
    "- Data Checks\n",
    "- Exploratory Data Analysis\n",
    "- Data Pre-processing\n",
    "- Model Training\n",
    "- Choose the best model"
   ]
  },
  {
   "cell_type": "markdown",
   "metadata": {},
   "source": [
    "## 1. Problem Statement\n",
    "\n",
    "- The project understands how the price of AirBnb properties is affected with variables such location, property type , Bed type, Availability"
   ]
  },
  {
   "cell_type": "markdown",
   "metadata": {},
   "source": [
    "## 2. Data Collection\n",
    "\n",
    "- Data Source - https://www.kaggle.com/datasets/joebeachcapital/airbnb\n",
    "- Dataset consist of 89 columns and 75k records, we be only using relevent columns."
   ]
  },
  {
   "cell_type": "code",
   "execution_count": 2,
   "metadata": {},
   "outputs": [],
   "source": [
    "import pandas as pd\n",
    "import numpy as np\n",
    "import matplotlib.pyplot as plt\n",
    "import seaborn as sns\n",
    "import re\n",
    "%matplotlib inline"
   ]
  },
  {
   "cell_type": "code",
   "execution_count": 3,
   "metadata": {},
   "outputs": [],
   "source": [
    "df = pd.read_csv('airbnb-listings.csv',delimiter=';',low_memory=False,usecols=['Price', 'Smart Location', 'Room Type', 'Property Type', 'Bed Type', 'Availability 365', 'Minimum Nights', \n",
    "                 'Number of Reviews', 'Review Scores Rating', 'Cancellation Policy'])"
   ]
  },
  {
   "cell_type": "code",
   "execution_count": null,
   "metadata": {},
   "outputs": [],
   "source": []
  },
  {
   "cell_type": "code",
   "execution_count": 4,
   "metadata": {},
   "outputs": [],
   "source": [
    "df.columns = [col.replace(\" \",\"\").lower() for col in df.columns]"
   ]
  },
  {
   "cell_type": "code",
   "execution_count": 5,
   "metadata": {},
   "outputs": [
    {
     "data": {
      "text/html": [
       "<div>\n",
       "<style scoped>\n",
       "    .dataframe tbody tr th:only-of-type {\n",
       "        vertical-align: middle;\n",
       "    }\n",
       "\n",
       "    .dataframe tbody tr th {\n",
       "        vertical-align: top;\n",
       "    }\n",
       "\n",
       "    .dataframe thead th {\n",
       "        text-align: right;\n",
       "    }\n",
       "</style>\n",
       "<table border=\"1\" class=\"dataframe\">\n",
       "  <thead>\n",
       "    <tr style=\"text-align: right;\">\n",
       "      <th></th>\n",
       "      <th>smartlocation</th>\n",
       "      <th>propertytype</th>\n",
       "      <th>roomtype</th>\n",
       "      <th>bedtype</th>\n",
       "      <th>price</th>\n",
       "      <th>minimumnights</th>\n",
       "      <th>availability365</th>\n",
       "      <th>numberofreviews</th>\n",
       "      <th>reviewscoresrating</th>\n",
       "      <th>cancellationpolicy</th>\n",
       "    </tr>\n",
       "  </thead>\n",
       "  <tbody>\n",
       "    <tr>\n",
       "      <th>0</th>\n",
       "      <td>Amsterdam, Netherlands</td>\n",
       "      <td>Apartment</td>\n",
       "      <td>Entire home/apt</td>\n",
       "      <td>Real Bed</td>\n",
       "      <td>600.0</td>\n",
       "      <td>2.0</td>\n",
       "      <td>74.0</td>\n",
       "      <td>31.0</td>\n",
       "      <td>89.0</td>\n",
       "      <td>strict</td>\n",
       "    </tr>\n",
       "    <tr>\n",
       "      <th>1</th>\n",
       "      <td>Amsterdam, Netherlands</td>\n",
       "      <td>Apartment</td>\n",
       "      <td>Entire home/apt</td>\n",
       "      <td>Real Bed</td>\n",
       "      <td>175.0</td>\n",
       "      <td>2.0</td>\n",
       "      <td>259.0</td>\n",
       "      <td>15.0</td>\n",
       "      <td>99.0</td>\n",
       "      <td>strict</td>\n",
       "    </tr>\n",
       "    <tr>\n",
       "      <th>2</th>\n",
       "      <td>Amsterdam, Netherlands</td>\n",
       "      <td>Apartment</td>\n",
       "      <td>Entire home/apt</td>\n",
       "      <td>Real Bed</td>\n",
       "      <td>125.0</td>\n",
       "      <td>4.0</td>\n",
       "      <td>0.0</td>\n",
       "      <td>1.0</td>\n",
       "      <td>100.0</td>\n",
       "      <td>flexible</td>\n",
       "    </tr>\n",
       "    <tr>\n",
       "      <th>3</th>\n",
       "      <td>Amsterdam, Netherlands</td>\n",
       "      <td>Apartment</td>\n",
       "      <td>Entire home/apt</td>\n",
       "      <td>Real Bed</td>\n",
       "      <td>130.0</td>\n",
       "      <td>3.0</td>\n",
       "      <td>0.0</td>\n",
       "      <td>22.0</td>\n",
       "      <td>97.0</td>\n",
       "      <td>flexible</td>\n",
       "    </tr>\n",
       "    <tr>\n",
       "      <th>4</th>\n",
       "      <td>Amsterdam, Netherlands</td>\n",
       "      <td>Apartment</td>\n",
       "      <td>Entire home/apt</td>\n",
       "      <td>Real Bed</td>\n",
       "      <td>80.0</td>\n",
       "      <td>2.0</td>\n",
       "      <td>326.0</td>\n",
       "      <td>16.0</td>\n",
       "      <td>78.0</td>\n",
       "      <td>moderate</td>\n",
       "    </tr>\n",
       "  </tbody>\n",
       "</table>\n",
       "</div>"
      ],
      "text/plain": [
       "            smartlocation propertytype         roomtype   bedtype  price  \\\n",
       "0  Amsterdam, Netherlands    Apartment  Entire home/apt  Real Bed  600.0   \n",
       "1  Amsterdam, Netherlands    Apartment  Entire home/apt  Real Bed  175.0   \n",
       "2  Amsterdam, Netherlands    Apartment  Entire home/apt  Real Bed  125.0   \n",
       "3  Amsterdam, Netherlands    Apartment  Entire home/apt  Real Bed  130.0   \n",
       "4  Amsterdam, Netherlands    Apartment  Entire home/apt  Real Bed   80.0   \n",
       "\n",
       "   minimumnights  availability365  numberofreviews  reviewscoresrating  \\\n",
       "0            2.0             74.0             31.0                89.0   \n",
       "1            2.0            259.0             15.0                99.0   \n",
       "2            4.0              0.0              1.0               100.0   \n",
       "3            3.0              0.0             22.0                97.0   \n",
       "4            2.0            326.0             16.0                78.0   \n",
       "\n",
       "  cancellationpolicy  \n",
       "0             strict  \n",
       "1             strict  \n",
       "2           flexible  \n",
       "3           flexible  \n",
       "4           moderate  "
      ]
     },
     "execution_count": 5,
     "metadata": {},
     "output_type": "execute_result"
    }
   ],
   "source": [
    "df.head()"
   ]
  },
  {
   "cell_type": "code",
   "execution_count": 6,
   "metadata": {},
   "outputs": [
    {
     "data": {
      "text/html": [
       "<div>\n",
       "<style scoped>\n",
       "    .dataframe tbody tr th:only-of-type {\n",
       "        vertical-align: middle;\n",
       "    }\n",
       "\n",
       "    .dataframe tbody tr th {\n",
       "        vertical-align: top;\n",
       "    }\n",
       "\n",
       "    .dataframe thead th {\n",
       "        text-align: right;\n",
       "    }\n",
       "</style>\n",
       "<table border=\"1\" class=\"dataframe\">\n",
       "  <thead>\n",
       "    <tr style=\"text-align: right;\">\n",
       "      <th></th>\n",
       "      <th>smartlocation</th>\n",
       "      <th>propertytype</th>\n",
       "      <th>roomtype</th>\n",
       "      <th>bedtype</th>\n",
       "      <th>price</th>\n",
       "      <th>minimumnights</th>\n",
       "      <th>availability365</th>\n",
       "      <th>numberofreviews</th>\n",
       "      <th>reviewscoresrating</th>\n",
       "      <th>cancellationpolicy</th>\n",
       "    </tr>\n",
       "  </thead>\n",
       "  <tbody>\n",
       "    <tr>\n",
       "      <th>494949</th>\n",
       "      <td>Footscray, Australia</td>\n",
       "      <td>House</td>\n",
       "      <td>Private room</td>\n",
       "      <td>Real Bed</td>\n",
       "      <td>30.0</td>\n",
       "      <td>1.0</td>\n",
       "      <td>0.0</td>\n",
       "      <td>4.0</td>\n",
       "      <td>60.0</td>\n",
       "      <td>moderate</td>\n",
       "    </tr>\n",
       "    <tr>\n",
       "      <th>494950</th>\n",
       "      <td>Yarraville, Australia</td>\n",
       "      <td>House</td>\n",
       "      <td>Private room</td>\n",
       "      <td>Real Bed</td>\n",
       "      <td>42.0</td>\n",
       "      <td>7.0</td>\n",
       "      <td>358.0</td>\n",
       "      <td>9.0</td>\n",
       "      <td>93.0</td>\n",
       "      <td>moderate</td>\n",
       "    </tr>\n",
       "    <tr>\n",
       "      <th>494951</th>\n",
       "      <td>West Footscray, Australia</td>\n",
       "      <td>House</td>\n",
       "      <td>Private room</td>\n",
       "      <td>Real Bed</td>\n",
       "      <td>33.0</td>\n",
       "      <td>3.0</td>\n",
       "      <td>337.0</td>\n",
       "      <td>3.0</td>\n",
       "      <td>100.0</td>\n",
       "      <td>strict</td>\n",
       "    </tr>\n",
       "    <tr>\n",
       "      <th>494952</th>\n",
       "      <td>Footscray, Australia</td>\n",
       "      <td>Apartment</td>\n",
       "      <td>Entire home/apt</td>\n",
       "      <td>Real Bed</td>\n",
       "      <td>62.0</td>\n",
       "      <td>5.0</td>\n",
       "      <td>28.0</td>\n",
       "      <td>0.0</td>\n",
       "      <td>NaN</td>\n",
       "      <td>flexible</td>\n",
       "    </tr>\n",
       "    <tr>\n",
       "      <th>494953</th>\n",
       "      <td>Kingsville, Australia</td>\n",
       "      <td>House</td>\n",
       "      <td>Private room</td>\n",
       "      <td>Real Bed</td>\n",
       "      <td>47.0</td>\n",
       "      <td>2.0</td>\n",
       "      <td>63.0</td>\n",
       "      <td>0.0</td>\n",
       "      <td>NaN</td>\n",
       "      <td>moderate</td>\n",
       "    </tr>\n",
       "  </tbody>\n",
       "</table>\n",
       "</div>"
      ],
      "text/plain": [
       "                    smartlocation propertytype         roomtype   bedtype  \\\n",
       "494949       Footscray, Australia        House     Private room  Real Bed   \n",
       "494950      Yarraville, Australia        House     Private room  Real Bed   \n",
       "494951  West Footscray, Australia        House     Private room  Real Bed   \n",
       "494952       Footscray, Australia    Apartment  Entire home/apt  Real Bed   \n",
       "494953      Kingsville, Australia        House     Private room  Real Bed   \n",
       "\n",
       "        price  minimumnights  availability365  numberofreviews  \\\n",
       "494949   30.0            1.0              0.0              4.0   \n",
       "494950   42.0            7.0            358.0              9.0   \n",
       "494951   33.0            3.0            337.0              3.0   \n",
       "494952   62.0            5.0             28.0              0.0   \n",
       "494953   47.0            2.0             63.0              0.0   \n",
       "\n",
       "        reviewscoresrating cancellationpolicy  \n",
       "494949                60.0           moderate  \n",
       "494950                93.0           moderate  \n",
       "494951               100.0             strict  \n",
       "494952                 NaN           flexible  \n",
       "494953                 NaN           moderate  "
      ]
     },
     "execution_count": 6,
     "metadata": {},
     "output_type": "execute_result"
    }
   ],
   "source": [
    "df.tail()"
   ]
  },
  {
   "cell_type": "markdown",
   "metadata": {},
   "source": [
    "### 2.2 Data Information\n",
    "- smartlocation = location of the property i.e. city and country\n",
    "- propertytype - type of property (house or apartment)\n",
    "- roomtype - type of room\n",
    "- bedtype - type of bed\n",
    "- price - the target column\n",
    "- minimumnights - minimum nights stays\n",
    "- availability365 - availablity across year\n",
    "- numberofreviews - total number of reviews recieved\n",
    "- reviewscoresrating - rating of reviews\n",
    "- cancellationpolicy - how rigid are the cancelation policies\n",
    "\n"
   ]
  },
  {
   "cell_type": "code",
   "execution_count": 7,
   "metadata": {},
   "outputs": [
    {
     "data": {
      "text/plain": [
       "(494954, 10)"
      ]
     },
     "execution_count": 7,
     "metadata": {},
     "output_type": "execute_result"
    }
   ],
   "source": [
    "## shape of dataset\n",
    "df.shape"
   ]
  },
  {
   "cell_type": "markdown",
   "metadata": {},
   "source": [
    "### 3. Data Checks\n",
    "- Missing Values\n",
    "- Duplicates\n",
    "- Datatypes of variables\n",
    "- check number of unique values for each column\n",
    "- Check Statistics of Dataset\n",
    "- check various categories present in the categorical columns"
   ]
  },
  {
   "cell_type": "markdown",
   "metadata": {},
   "source": [
    "### 3.1 Missing Values\n",
    "\n"
   ]
  },
  {
   "cell_type": "code",
   "execution_count": 8,
   "metadata": {},
   "outputs": [
    {
     "data": {
      "text/plain": [
       "smartlocation         0.000004\n",
       "propertytype          0.000022\n",
       "roomtype              0.000002\n",
       "bedtype               0.000002\n",
       "price                 0.016078\n",
       "minimumnights         0.000004\n",
       "availability365       0.000004\n",
       "numberofreviews       0.000004\n",
       "reviewscoresrating    0.258246\n",
       "cancellationpolicy    0.000004\n",
       "dtype: float64"
      ]
     },
     "execution_count": 8,
     "metadata": {},
     "output_type": "execute_result"
    }
   ],
   "source": [
    "df.isnull().mean()"
   ]
  },
  {
   "cell_type": "markdown",
   "metadata": {},
   "source": [
    "#### Observation\n",
    "- We can see most of the columns have some missing values, we will all missing values"
   ]
  },
  {
   "cell_type": "code",
   "execution_count": 9,
   "metadata": {},
   "outputs": [
    {
     "name": "stdout",
     "output_type": "stream",
     "text": [
      "shape with missing values (494954, 10)\n",
      "\n",
      "shape after removing missing values (362420, 10)\n"
     ]
    }
   ],
   "source": [
    "print(f\"shape with missing values {df.shape}\\n\")\n",
    "\n",
    "df.dropna(inplace=True)\n",
    "\n",
    "print(f\"shape after removing missing values {df.shape}\")"
   ]
  },
  {
   "cell_type": "markdown",
   "metadata": {},
   "source": [
    "### 3.2 Check Duplicates\n",
    "\n"
   ]
  },
  {
   "cell_type": "code",
   "execution_count": 10,
   "metadata": {},
   "outputs": [
    {
     "data": {
      "text/plain": [
       "4302"
      ]
     },
     "execution_count": 10,
     "metadata": {},
     "output_type": "execute_result"
    }
   ],
   "source": [
    "df.duplicated().sum()"
   ]
  },
  {
   "cell_type": "markdown",
   "metadata": {},
   "source": [
    "#### Observation\n",
    "- there are 4302 duplicates, we need to drop"
   ]
  },
  {
   "cell_type": "code",
   "execution_count": 11,
   "metadata": {},
   "outputs": [
    {
     "name": "stdout",
     "output_type": "stream",
     "text": [
      "shape with duplictes (362420, 10)\n",
      "\n",
      "shape after removing duplicates (358118, 10)\n"
     ]
    }
   ],
   "source": [
    "print(f\"shape with duplictes {df.shape}\\n\")\n",
    "\n",
    "df.drop_duplicates(inplace=True)\n",
    "\n",
    "print(f\"shape after removing duplicates {df.shape}\")"
   ]
  },
  {
   "cell_type": "markdown",
   "metadata": {},
   "source": [
    "### 3.3 Check Data types"
   ]
  },
  {
   "cell_type": "code",
   "execution_count": 12,
   "metadata": {},
   "outputs": [
    {
     "name": "stdout",
     "output_type": "stream",
     "text": [
      "<class 'pandas.core.frame.DataFrame'>\n",
      "Index: 358118 entries, 0 to 494951\n",
      "Data columns (total 10 columns):\n",
      " #   Column              Non-Null Count   Dtype  \n",
      "---  ------              --------------   -----  \n",
      " 0   smartlocation       358118 non-null  object \n",
      " 1   propertytype        358118 non-null  object \n",
      " 2   roomtype            358118 non-null  object \n",
      " 3   bedtype             358118 non-null  object \n",
      " 4   price               358118 non-null  float64\n",
      " 5   minimumnights       358118 non-null  float64\n",
      " 6   availability365     358118 non-null  float64\n",
      " 7   numberofreviews     358118 non-null  float64\n",
      " 8   reviewscoresrating  358118 non-null  float64\n",
      " 9   cancellationpolicy  358118 non-null  object \n",
      "dtypes: float64(5), object(5)\n",
      "memory usage: 30.1+ MB\n"
     ]
    }
   ],
   "source": [
    "df.info()"
   ]
  },
  {
   "cell_type": "markdown",
   "metadata": {},
   "source": [
    "#### observation\n",
    "- 5 categorical columns\n",
    "- 5 numerical columns\n"
   ]
  },
  {
   "cell_type": "markdown",
   "metadata": {},
   "source": [
    "### 3.4 Number of unique Values"
   ]
  },
  {
   "cell_type": "code",
   "execution_count": 13,
   "metadata": {},
   "outputs": [
    {
     "data": {
      "text/plain": [
       "smartlocation         4970\n",
       "propertytype            41\n",
       "roomtype                 3\n",
       "bedtype                  5\n",
       "price                  888\n",
       "minimumnights          136\n",
       "availability365        366\n",
       "numberofreviews        451\n",
       "reviewscoresrating      70\n",
       "cancellationpolicy      11\n",
       "dtype: int64"
      ]
     },
     "execution_count": 13,
     "metadata": {},
     "output_type": "execute_result"
    }
   ],
   "source": [
    "df.nunique()"
   ]
  },
  {
   "cell_type": "markdown",
   "metadata": {},
   "source": []
  },
  {
   "cell_type": "markdown",
   "metadata": {},
   "source": [
    "### 3.5 Check Statistics"
   ]
  },
  {
   "cell_type": "code",
   "execution_count": 42,
   "metadata": {},
   "outputs": [
    {
     "data": {
      "text/html": [
       "<div>\n",
       "<style scoped>\n",
       "    .dataframe tbody tr th:only-of-type {\n",
       "        vertical-align: middle;\n",
       "    }\n",
       "\n",
       "    .dataframe tbody tr th {\n",
       "        vertical-align: top;\n",
       "    }\n",
       "\n",
       "    .dataframe thead th {\n",
       "        text-align: right;\n",
       "    }\n",
       "</style>\n",
       "<table border=\"1\" class=\"dataframe\">\n",
       "  <thead>\n",
       "    <tr style=\"text-align: right;\">\n",
       "      <th></th>\n",
       "      <th>count</th>\n",
       "      <th>mean</th>\n",
       "      <th>std</th>\n",
       "      <th>min</th>\n",
       "      <th>10%</th>\n",
       "      <th>25%</th>\n",
       "      <th>50%</th>\n",
       "      <th>65%</th>\n",
       "      <th>75%</th>\n",
       "      <th>80%</th>\n",
       "      <th>95%</th>\n",
       "      <th>98%</th>\n",
       "      <th>max</th>\n",
       "    </tr>\n",
       "  </thead>\n",
       "  <tbody>\n",
       "    <tr>\n",
       "      <th>price</th>\n",
       "      <td>358118.0</td>\n",
       "      <td>134.582015</td>\n",
       "      <td>144.995684</td>\n",
       "      <td>0.0</td>\n",
       "      <td>37.0</td>\n",
       "      <td>55.0</td>\n",
       "      <td>90.0</td>\n",
       "      <td>120.0</td>\n",
       "      <td>150.0</td>\n",
       "      <td>170.0</td>\n",
       "      <td>450.0</td>\n",
       "      <td>690.0</td>\n",
       "      <td>999.0</td>\n",
       "    </tr>\n",
       "    <tr>\n",
       "      <th>minimumnights</th>\n",
       "      <td>358118.0</td>\n",
       "      <td>3.433927</td>\n",
       "      <td>104.870469</td>\n",
       "      <td>1.0</td>\n",
       "      <td>1.0</td>\n",
       "      <td>1.0</td>\n",
       "      <td>2.0</td>\n",
       "      <td>2.0</td>\n",
       "      <td>3.0</td>\n",
       "      <td>3.0</td>\n",
       "      <td>7.0</td>\n",
       "      <td>14.0</td>\n",
       "      <td>60000.0</td>\n",
       "    </tr>\n",
       "    <tr>\n",
       "      <th>availability365</th>\n",
       "      <td>358118.0</td>\n",
       "      <td>175.275803</td>\n",
       "      <td>136.284867</td>\n",
       "      <td>0.0</td>\n",
       "      <td>0.0</td>\n",
       "      <td>33.0</td>\n",
       "      <td>169.0</td>\n",
       "      <td>275.0</td>\n",
       "      <td>313.0</td>\n",
       "      <td>329.0</td>\n",
       "      <td>364.0</td>\n",
       "      <td>365.0</td>\n",
       "      <td>365.0</td>\n",
       "    </tr>\n",
       "    <tr>\n",
       "      <th>numberofreviews</th>\n",
       "      <td>358118.0</td>\n",
       "      <td>22.899985</td>\n",
       "      <td>36.043492</td>\n",
       "      <td>1.0</td>\n",
       "      <td>1.0</td>\n",
       "      <td>3.0</td>\n",
       "      <td>9.0</td>\n",
       "      <td>17.0</td>\n",
       "      <td>27.0</td>\n",
       "      <td>34.0</td>\n",
       "      <td>93.0</td>\n",
       "      <td>139.0</td>\n",
       "      <td>735.0</td>\n",
       "    </tr>\n",
       "    <tr>\n",
       "      <th>reviewscoresrating</th>\n",
       "      <td>358118.0</td>\n",
       "      <td>92.858097</td>\n",
       "      <td>8.550968</td>\n",
       "      <td>20.0</td>\n",
       "      <td>81.0</td>\n",
       "      <td>90.0</td>\n",
       "      <td>95.0</td>\n",
       "      <td>97.0</td>\n",
       "      <td>100.0</td>\n",
       "      <td>100.0</td>\n",
       "      <td>100.0</td>\n",
       "      <td>100.0</td>\n",
       "      <td>100.0</td>\n",
       "    </tr>\n",
       "  </tbody>\n",
       "</table>\n",
       "</div>"
      ],
      "text/plain": [
       "                       count        mean         std   min   10%   25%    50%  \\\n",
       "price               358118.0  134.582015  144.995684   0.0  37.0  55.0   90.0   \n",
       "minimumnights       358118.0    3.433927  104.870469   1.0   1.0   1.0    2.0   \n",
       "availability365     358118.0  175.275803  136.284867   0.0   0.0  33.0  169.0   \n",
       "numberofreviews     358118.0   22.899985   36.043492   1.0   1.0   3.0    9.0   \n",
       "reviewscoresrating  358118.0   92.858097    8.550968  20.0  81.0  90.0   95.0   \n",
       "\n",
       "                      65%    75%    80%    95%    98%      max  \n",
       "price               120.0  150.0  170.0  450.0  690.0    999.0  \n",
       "minimumnights         2.0    3.0    3.0    7.0   14.0  60000.0  \n",
       "availability365     275.0  313.0  329.0  364.0  365.0    365.0  \n",
       "numberofreviews      17.0   27.0   34.0   93.0  139.0    735.0  \n",
       "reviewscoresrating   97.0  100.0  100.0  100.0  100.0    100.0  "
      ]
     },
     "execution_count": 42,
     "metadata": {},
     "output_type": "execute_result"
    }
   ],
   "source": [
    "df.describe(percentiles=[.1,.25,.5,.65,.75,.8,.95,.98]).T"
   ]
  },
  {
   "cell_type": "markdown",
   "metadata": {},
   "source": [
    "### Observation\n",
    "- minimumnights has maximum values of 60000, which is not normal as 95% of values are under 7.\n",
    "- similarly, for numberofreviews 95% falls under 93 but the maximum value is 735.\n",
    "- availinlity365 has 10% zero values.\n",
    "- price columns min price is zero."
   ]
  },
  {
   "cell_type": "code",
   "execution_count": 15,
   "metadata": {},
   "outputs": [
    {
     "name": "stdout",
     "output_type": "stream",
     "text": [
      "TARGET: price\n",
      "\n",
      "categorical columns: ['smartlocation', 'propertytype', 'roomtype', 'bedtype', 'cancellationpolicy']\n",
      "length of categorical columns: 5\n",
      "\n",
      "numerical colomns: ['minimumnights', 'availability365', 'numberofreviews', 'reviewscoresrating']\n",
      "length of numerical columns: 4\n"
     ]
    }
   ],
   "source": [
    "## define categorical and numerical columns\n",
    "TARGET = 'price'\n",
    "categorical_cols = [col for col in df.columns if df[col].dtype == 'O']\n",
    "numerical_cols = [col for col in df.columns if col not in categorical_cols and col != TARGET]\n",
    "\n",
    "print(f\"TARGET: {TARGET}\\n\")\n",
    "print(f\"categorical columns: {categorical_cols}\")\n",
    "print(f\"length of categorical columns: {len(categorical_cols)}\\n\")\n",
    "\n",
    "print(f\"numerical colomns: {numerical_cols}\")\n",
    "print(f\"length of numerical columns: {len(numerical_cols)}\")\n",
    "\n"
   ]
  },
  {
   "cell_type": "markdown",
   "metadata": {},
   "source": [
    "### 3.6 Categories of Categorical columns"
   ]
  },
  {
   "cell_type": "code",
   "execution_count": 16,
   "metadata": {},
   "outputs": [
    {
     "name": "stdout",
     "output_type": "stream",
     "text": [
      "number of categories: 4970\n",
      "Categories of smartlocation: ['Amsterdam, Netherlands' 'Antwerpen, Belgium' 'Antwerp, Belgium' ...\n",
      " 'Es Carregador, Spain' 'villa verde bajo, Spain' 'Centro, Spain'] \n",
      "\n",
      "number of categories: 41\n",
      "Categories of propertytype: ['Apartment' 'House' 'Bed & Breakfast' 'Condominium' 'Boat' 'Villa'\n",
      " 'Townhouse' 'Loft' 'Other' 'Cabin' 'Boutique hotel' 'Bungalow'\n",
      " 'Camper/RV' 'Dorm' 'Hostel' 'Serviced apartment' 'Guesthouse' 'Castle'\n",
      " 'Guest suite' 'Tent' 'Entire Floor' 'Chalet' 'Ryokan (Japan)' 'Timeshare'\n",
      " 'Earth House' 'Hut' 'Treehouse' 'Lighthouse' 'Igloo' 'Yurt' 'Train'\n",
      " 'Vacation home' 'Cave' 'Tipi' 'Island' 'In-law' 'Casa particular' 'Plane'\n",
      " 'Nature lodge' 'Parking Space' 'Heritage hotel (India)'] \n",
      "\n",
      "number of categories: 3\n",
      "Categories of roomtype: ['Entire home/apt' 'Private room' 'Shared room'] \n",
      "\n",
      "number of categories: 5\n",
      "Categories of bedtype: ['Real Bed' 'Pull-out Sofa' 'Futon' 'Airbed' 'Couch'] \n",
      "\n",
      "number of categories: 11\n",
      "Categories of cancellationpolicy: ['strict' 'flexible' 'moderate' 'super_strict_60' 'super_strict_30'\n",
      " 'strict_new' 'flexible_new' 'moderate_new' 'super_strict_60_new'\n",
      " 'super_strict_30_new' 'no_refunds'] \n",
      "\n"
     ]
    }
   ],
   "source": [
    "for col in categorical_cols:\n",
    "    print(f\"number of categories: {df[col].nunique()}\")\n",
    "    print(\"Categories of {}: {} \\n\".format(col,df[col].unique()))\n",
    "    "
   ]
  },
  {
   "cell_type": "markdown",
   "metadata": {},
   "source": [
    "### observation \n",
    "- smartlocation has 4970 unique categories,which is to be dealt.\n",
    "- similarly propertype has 41 unique values and some of them doesnot look right.\n"
   ]
  },
  {
   "cell_type": "markdown",
   "metadata": {},
   "source": [
    "## 4) Exploratory Data Analysis\n"
   ]
  },
  {
   "cell_type": "code",
   "execution_count": 17,
   "metadata": {},
   "outputs": [
    {
     "data": {
      "text/html": [
       "<div>\n",
       "<style scoped>\n",
       "    .dataframe tbody tr th:only-of-type {\n",
       "        vertical-align: middle;\n",
       "    }\n",
       "\n",
       "    .dataframe tbody tr th {\n",
       "        vertical-align: top;\n",
       "    }\n",
       "\n",
       "    .dataframe thead th {\n",
       "        text-align: right;\n",
       "    }\n",
       "</style>\n",
       "<table border=\"1\" class=\"dataframe\">\n",
       "  <thead>\n",
       "    <tr style=\"text-align: right;\">\n",
       "      <th></th>\n",
       "      <th>smartlocation</th>\n",
       "      <th>propertytype</th>\n",
       "      <th>roomtype</th>\n",
       "      <th>bedtype</th>\n",
       "      <th>price</th>\n",
       "      <th>minimumnights</th>\n",
       "      <th>availability365</th>\n",
       "      <th>numberofreviews</th>\n",
       "      <th>reviewscoresrating</th>\n",
       "      <th>cancellationpolicy</th>\n",
       "    </tr>\n",
       "  </thead>\n",
       "  <tbody>\n",
       "    <tr>\n",
       "      <th>0</th>\n",
       "      <td>Amsterdam, Netherlands</td>\n",
       "      <td>Apartment</td>\n",
       "      <td>Entire home/apt</td>\n",
       "      <td>Real Bed</td>\n",
       "      <td>600.0</td>\n",
       "      <td>2.0</td>\n",
       "      <td>74.0</td>\n",
       "      <td>31.0</td>\n",
       "      <td>89.0</td>\n",
       "      <td>strict</td>\n",
       "    </tr>\n",
       "    <tr>\n",
       "      <th>1</th>\n",
       "      <td>Amsterdam, Netherlands</td>\n",
       "      <td>Apartment</td>\n",
       "      <td>Entire home/apt</td>\n",
       "      <td>Real Bed</td>\n",
       "      <td>175.0</td>\n",
       "      <td>2.0</td>\n",
       "      <td>259.0</td>\n",
       "      <td>15.0</td>\n",
       "      <td>99.0</td>\n",
       "      <td>strict</td>\n",
       "    </tr>\n",
       "    <tr>\n",
       "      <th>2</th>\n",
       "      <td>Amsterdam, Netherlands</td>\n",
       "      <td>Apartment</td>\n",
       "      <td>Entire home/apt</td>\n",
       "      <td>Real Bed</td>\n",
       "      <td>125.0</td>\n",
       "      <td>4.0</td>\n",
       "      <td>0.0</td>\n",
       "      <td>1.0</td>\n",
       "      <td>100.0</td>\n",
       "      <td>flexible</td>\n",
       "    </tr>\n",
       "    <tr>\n",
       "      <th>3</th>\n",
       "      <td>Amsterdam, Netherlands</td>\n",
       "      <td>Apartment</td>\n",
       "      <td>Entire home/apt</td>\n",
       "      <td>Real Bed</td>\n",
       "      <td>130.0</td>\n",
       "      <td>3.0</td>\n",
       "      <td>0.0</td>\n",
       "      <td>22.0</td>\n",
       "      <td>97.0</td>\n",
       "      <td>flexible</td>\n",
       "    </tr>\n",
       "    <tr>\n",
       "      <th>4</th>\n",
       "      <td>Amsterdam, Netherlands</td>\n",
       "      <td>Apartment</td>\n",
       "      <td>Entire home/apt</td>\n",
       "      <td>Real Bed</td>\n",
       "      <td>80.0</td>\n",
       "      <td>2.0</td>\n",
       "      <td>326.0</td>\n",
       "      <td>16.0</td>\n",
       "      <td>78.0</td>\n",
       "      <td>moderate</td>\n",
       "    </tr>\n",
       "  </tbody>\n",
       "</table>\n",
       "</div>"
      ],
      "text/plain": [
       "            smartlocation propertytype         roomtype   bedtype  price  \\\n",
       "0  Amsterdam, Netherlands    Apartment  Entire home/apt  Real Bed  600.0   \n",
       "1  Amsterdam, Netherlands    Apartment  Entire home/apt  Real Bed  175.0   \n",
       "2  Amsterdam, Netherlands    Apartment  Entire home/apt  Real Bed  125.0   \n",
       "3  Amsterdam, Netherlands    Apartment  Entire home/apt  Real Bed  130.0   \n",
       "4  Amsterdam, Netherlands    Apartment  Entire home/apt  Real Bed   80.0   \n",
       "\n",
       "   minimumnights  availability365  numberofreviews  reviewscoresrating  \\\n",
       "0            2.0             74.0             31.0                89.0   \n",
       "1            2.0            259.0             15.0                99.0   \n",
       "2            4.0              0.0              1.0               100.0   \n",
       "3            3.0              0.0             22.0                97.0   \n",
       "4            2.0            326.0             16.0                78.0   \n",
       "\n",
       "  cancellationpolicy  \n",
       "0             strict  \n",
       "1             strict  \n",
       "2           flexible  \n",
       "3           flexible  \n",
       "4           moderate  "
      ]
     },
     "execution_count": 17,
     "metadata": {},
     "output_type": "execute_result"
    }
   ],
   "source": [
    "df.head()"
   ]
  },
  {
   "cell_type": "markdown",
   "metadata": {},
   "source": [
    "- ***TARGET***\n"
   ]
  },
  {
   "cell_type": "code",
   "execution_count": 18,
   "metadata": {},
   "outputs": [
    {
     "data": {
      "text/plain": [
       "<Axes: xlabel='price', ylabel='Count'>"
      ]
     },
     "execution_count": 18,
     "metadata": {},
     "output_type": "execute_result"
    },
    {
     "data": {
      "image/png": "[encoded data removed]",
      "text/plain": [
       "<Figure size 640x480 with 1 Axes>"
      ]
     },
     "metadata": {},
     "output_type": "display_data"
    }
   ],
   "source": [
    "sns.histplot(df[TARGET],kde=True,bins=100)\n"
   ]
  },
  {
   "cell_type": "code",
   "execution_count": 19,
   "metadata": {},
   "outputs": [
    {
     "data": {
      "text/plain": [
       "propertytype\n",
       "Apartment                 0.719269\n",
       "House                     0.184850\n",
       "Bed & Breakfast           0.022596\n",
       "Condominium               0.020569\n",
       "Loft                      0.013370\n",
       "Townhouse                 0.011669\n",
       "Other                     0.006417\n",
       "Villa                     0.003870\n",
       "Guesthouse                0.003479\n",
       "Bungalow                  0.002653\n",
       "Dorm                      0.002538\n",
       "Boat                      0.002008\n",
       "Cabin                     0.001759\n",
       "Chalet                    0.000804\n",
       "Camper/RV                 0.000698\n",
       "Hostel                    0.000676\n",
       "Boutique hotel            0.000665\n",
       "Serviced apartment        0.000656\n",
       "Timeshare                 0.000274\n",
       "Guest suite               0.000209\n",
       "Tent                      0.000209\n",
       "Treehouse                 0.000134\n",
       "Castle                    0.000123\n",
       "Vacation home             0.000078\n",
       "Earth House               0.000078\n",
       "Hut                       0.000061\n",
       "In-law                    0.000059\n",
       "Yurt                      0.000056\n",
       "Tipi                      0.000031\n",
       "Lighthouse                0.000025\n",
       "Entire Floor              0.000022\n",
       "Cave                      0.000020\n",
       "Train                     0.000017\n",
       "Island                    0.000014\n",
       "Nature lodge              0.000014\n",
       "Igloo                     0.000008\n",
       "Casa particular           0.000008\n",
       "Parking Space             0.000006\n",
       "Ryokan (Japan)            0.000003\n",
       "Plane                     0.000003\n",
       "Heritage hotel (India)    0.000003\n",
       "Name: count, dtype: float64"
      ]
     },
     "execution_count": 19,
     "metadata": {},
     "output_type": "execute_result"
    }
   ],
   "source": [
    "df['propertytype'].value_counts()/df.shape[0]\n"
   ]
  },
  {
   "cell_type": "markdown",
   "metadata": {},
   "source": [
    "### Observation\n",
    "- for propertytype has almost 72% apartments and 18% house, and for others the contribution are very low.\n",
    "- this can droped or sumarised as apartment and house."
   ]
  },
  {
   "cell_type": "code",
   "execution_count": 20,
   "metadata": {},
   "outputs": [
    {
     "data": {
      "text/html": [
       "<div>\n",
       "<style scoped>\n",
       "    .dataframe tbody tr th:only-of-type {\n",
       "        vertical-align: middle;\n",
       "    }\n",
       "\n",
       "    .dataframe tbody tr th {\n",
       "        vertical-align: top;\n",
       "    }\n",
       "\n",
       "    .dataframe thead th {\n",
       "        text-align: right;\n",
       "    }\n",
       "</style>\n",
       "<table border=\"1\" class=\"dataframe\">\n",
       "  <thead>\n",
       "    <tr style=\"text-align: right;\">\n",
       "      <th></th>\n",
       "      <th></th>\n",
       "      <th>smartlocation</th>\n",
       "      <th>bedtype</th>\n",
       "      <th>price</th>\n",
       "      <th>minimumnights</th>\n",
       "      <th>availability365</th>\n",
       "      <th>numberofreviews</th>\n",
       "      <th>reviewscoresrating</th>\n",
       "      <th>cancellationpolicy</th>\n",
       "    </tr>\n",
       "    <tr>\n",
       "      <th>roomtype</th>\n",
       "      <th>propertytype</th>\n",
       "      <th></th>\n",
       "      <th></th>\n",
       "      <th></th>\n",
       "      <th></th>\n",
       "      <th></th>\n",
       "      <th></th>\n",
       "      <th></th>\n",
       "      <th></th>\n",
       "    </tr>\n",
       "  </thead>\n",
       "  <tbody>\n",
       "    <tr>\n",
       "      <th rowspan=\"5\" valign=\"top\">Entire home/apt</th>\n",
       "      <th>Apartment</th>\n",
       "      <td>181929</td>\n",
       "      <td>181929</td>\n",
       "      <td>181929</td>\n",
       "      <td>181929</td>\n",
       "      <td>181929</td>\n",
       "      <td>181929</td>\n",
       "      <td>181929</td>\n",
       "      <td>181929</td>\n",
       "    </tr>\n",
       "    <tr>\n",
       "      <th>Bed &amp; Breakfast</th>\n",
       "      <td>701</td>\n",
       "      <td>701</td>\n",
       "      <td>701</td>\n",
       "      <td>701</td>\n",
       "      <td>701</td>\n",
       "      <td>701</td>\n",
       "      <td>701</td>\n",
       "      <td>701</td>\n",
       "    </tr>\n",
       "    <tr>\n",
       "      <th>Boat</th>\n",
       "      <td>519</td>\n",
       "      <td>519</td>\n",
       "      <td>519</td>\n",
       "      <td>519</td>\n",
       "      <td>519</td>\n",
       "      <td>519</td>\n",
       "      <td>519</td>\n",
       "      <td>519</td>\n",
       "    </tr>\n",
       "    <tr>\n",
       "      <th>Boutique hotel</th>\n",
       "      <td>53</td>\n",
       "      <td>53</td>\n",
       "      <td>53</td>\n",
       "      <td>53</td>\n",
       "      <td>53</td>\n",
       "      <td>53</td>\n",
       "      <td>53</td>\n",
       "      <td>53</td>\n",
       "    </tr>\n",
       "    <tr>\n",
       "      <th>Bungalow</th>\n",
       "      <td>750</td>\n",
       "      <td>750</td>\n",
       "      <td>750</td>\n",
       "      <td>750</td>\n",
       "      <td>750</td>\n",
       "      <td>750</td>\n",
       "      <td>750</td>\n",
       "      <td>750</td>\n",
       "    </tr>\n",
       "    <tr>\n",
       "      <th>...</th>\n",
       "      <th>...</th>\n",
       "      <td>...</td>\n",
       "      <td>...</td>\n",
       "      <td>...</td>\n",
       "      <td>...</td>\n",
       "      <td>...</td>\n",
       "      <td>...</td>\n",
       "      <td>...</td>\n",
       "      <td>...</td>\n",
       "    </tr>\n",
       "    <tr>\n",
       "      <th rowspan=\"5\" valign=\"top\">Shared room</th>\n",
       "      <th>Tent</th>\n",
       "      <td>4</td>\n",
       "      <td>4</td>\n",
       "      <td>4</td>\n",
       "      <td>4</td>\n",
       "      <td>4</td>\n",
       "      <td>4</td>\n",
       "      <td>4</td>\n",
       "      <td>4</td>\n",
       "    </tr>\n",
       "    <tr>\n",
       "      <th>Timeshare</th>\n",
       "      <td>2</td>\n",
       "      <td>2</td>\n",
       "      <td>2</td>\n",
       "      <td>2</td>\n",
       "      <td>2</td>\n",
       "      <td>2</td>\n",
       "      <td>2</td>\n",
       "      <td>2</td>\n",
       "    </tr>\n",
       "    <tr>\n",
       "      <th>Townhouse</th>\n",
       "      <td>56</td>\n",
       "      <td>56</td>\n",
       "      <td>56</td>\n",
       "      <td>56</td>\n",
       "      <td>56</td>\n",
       "      <td>56</td>\n",
       "      <td>56</td>\n",
       "      <td>56</td>\n",
       "    </tr>\n",
       "    <tr>\n",
       "      <th>Treehouse</th>\n",
       "      <td>2</td>\n",
       "      <td>2</td>\n",
       "      <td>2</td>\n",
       "      <td>2</td>\n",
       "      <td>2</td>\n",
       "      <td>2</td>\n",
       "      <td>2</td>\n",
       "      <td>2</td>\n",
       "    </tr>\n",
       "    <tr>\n",
       "      <th>Villa</th>\n",
       "      <td>14</td>\n",
       "      <td>14</td>\n",
       "      <td>14</td>\n",
       "      <td>14</td>\n",
       "      <td>14</td>\n",
       "      <td>14</td>\n",
       "      <td>14</td>\n",
       "      <td>14</td>\n",
       "    </tr>\n",
       "  </tbody>\n",
       "</table>\n",
       "<p>101 rows × 8 columns</p>\n",
       "</div>"
      ],
      "text/plain": [
       "                                 smartlocation  bedtype   price  \\\n",
       "roomtype        propertytype                                      \n",
       "Entire home/apt Apartment               181929   181929  181929   \n",
       "                Bed & Breakfast            701      701     701   \n",
       "                Boat                       519      519     519   \n",
       "                Boutique hotel              53       53      53   \n",
       "                Bungalow                   750      750     750   \n",
       "...                                        ...      ...     ...   \n",
       "Shared room     Tent                         4        4       4   \n",
       "                Timeshare                    2        2       2   \n",
       "                Townhouse                   56       56      56   \n",
       "                Treehouse                    2        2       2   \n",
       "                Villa                       14       14      14   \n",
       "\n",
       "                                 minimumnights  availability365  \\\n",
       "roomtype        propertytype                                      \n",
       "Entire home/apt Apartment               181929           181929   \n",
       "                Bed & Breakfast            701              701   \n",
       "                Boat                       519              519   \n",
       "                Boutique hotel              53               53   \n",
       "                Bungalow                   750              750   \n",
       "...                                        ...              ...   \n",
       "Shared room     Tent                         4                4   \n",
       "                Timeshare                    2                2   \n",
       "                Townhouse                   56               56   \n",
       "                Treehouse                    2                2   \n",
       "                Villa                       14               14   \n",
       "\n",
       "                                 numberofreviews  reviewscoresrating  \\\n",
       "roomtype        propertytype                                           \n",
       "Entire home/apt Apartment                 181929              181929   \n",
       "                Bed & Breakfast              701                 701   \n",
       "                Boat                         519                 519   \n",
       "                Boutique hotel                53                  53   \n",
       "                Bungalow                     750                 750   \n",
       "...                                          ...                 ...   \n",
       "Shared room     Tent                           4                   4   \n",
       "                Timeshare                      2                   2   \n",
       "                Townhouse                     56                  56   \n",
       "                Treehouse                      2                   2   \n",
       "                Villa                         14                  14   \n",
       "\n",
       "                                 cancellationpolicy  \n",
       "roomtype        propertytype                         \n",
       "Entire home/apt Apartment                    181929  \n",
       "                Bed & Breakfast                 701  \n",
       "                Boat                            519  \n",
       "                Boutique hotel                   53  \n",
       "                Bungalow                        750  \n",
       "...                                             ...  \n",
       "Shared room     Tent                              4  \n",
       "                Timeshare                         2  \n",
       "                Townhouse                        56  \n",
       "                Treehouse                         2  \n",
       "                Villa                            14  \n",
       "\n",
       "[101 rows x 8 columns]"
      ]
     },
     "execution_count": 20,
     "metadata": {},
     "output_type": "execute_result"
    }
   ],
   "source": [
    "df.groupby(['roomtype','propertytype']).aggregate('count')"
   ]
  },
  {
   "cell_type": "code",
   "execution_count": 60,
   "metadata": {},
   "outputs": [],
   "source": [
    "df.drop('propertytype',axis=1,inplace=True)"
   ]
  },
  {
   "cell_type": "code",
   "execution_count": 21,
   "metadata": {},
   "outputs": [
    {
     "data": {
      "text/plain": [
       "roomtype\n",
       "Entire home/apt    232117\n",
       "Private room       120183\n",
       "Shared room          5818\n",
       "Name: count, dtype: int64"
      ]
     },
     "execution_count": 21,
     "metadata": {},
     "output_type": "execute_result"
    }
   ],
   "source": [
    "df['roomtype'].value_counts()"
   ]
  },
  {
   "cell_type": "code",
   "execution_count": 22,
   "metadata": {},
   "outputs": [
    {
     "name": "stdout",
     "output_type": "stream",
     "text": [
      "bedtype\n",
      "Real Bed         0.964193\n",
      "Pull-out Sofa    0.021487\n",
      "Futon            0.007858\n",
      "Couch            0.004018\n",
      "Airbed           0.002443\n",
      "Name: count, dtype: float64\n"
     ]
    },
    {
     "data": {
      "image/png": "[encoded data removed]",
      "text/plain": [
       "<Figure size 640x480 with 1 Axes>"
      ]
     },
     "metadata": {},
     "output_type": "display_data"
    }
   ],
   "source": [
    "sns.countplot(df.bedtype)\n",
    "print(df.bedtype.value_counts()/df.shape[0])"
   ]
  },
  {
   "cell_type": "markdown",
   "metadata": {},
   "source": [
    "### observation \n",
    "- 96% of the bedtype are real type, which means the variable has very low variance."
   ]
  },
  {
   "cell_type": "code",
   "execution_count": 23,
   "metadata": {},
   "outputs": [],
   "source": [
    "df.drop(['bedtype'],inplace=True,axis=1)\n",
    "categorical_cols.remove('bedtype')"
   ]
  },
  {
   "cell_type": "code",
   "execution_count": 24,
   "metadata": {},
   "outputs": [
    {
     "name": "stdout",
     "output_type": "stream",
     "text": [
      "cancellationpolicy\n",
      "strict                 146377\n",
      "moderate               101149\n",
      "flexible                86394\n",
      "moderate_new             9682\n",
      "strict_new               8439\n",
      "flexible_new             5529\n",
      "super_strict_30           289\n",
      "super_strict_60           218\n",
      "super_strict_30_new        21\n",
      "super_strict_60_new        15\n",
      "no_refunds                  5\n",
      "Name: count, dtype: int64\n"
     ]
    },
    {
     "data": {
      "text/plain": [
       "<Axes: xlabel='count', ylabel='cancellationpolicy'>"
      ]
     },
     "execution_count": 24,
     "metadata": {},
     "output_type": "execute_result"
    },
    {
     "data": {
      "image/png": "[encoded data removed]",
      "text/plain": [
       "<Figure size 640x480 with 1 Axes>"
      ]
     },
     "metadata": {},
     "output_type": "display_data"
    }
   ],
   "source": [
    "print(df.cancellationpolicy.value_counts())\n",
    "sns.countplot(df.cancellationpolicy)"
   ]
  },
  {
   "cell_type": "code",
   "execution_count": 25,
   "metadata": {},
   "outputs": [
    {
     "data": {
      "text/plain": [
       "cancellationpolicy\n",
       "strict        155359\n",
       "moderate      110831\n",
       "flexible       91923\n",
       "no_refunds         5\n",
       "Name: count, dtype: int64"
      ]
     },
     "execution_count": 25,
     "metadata": {},
     "output_type": "execute_result"
    }
   ],
   "source": [
    "strict = r'\\b\\w*strict\\w*\\b'\n",
    "flexible = r'\\b\\w*flexible\\w*\\b'\n",
    "moderate = r'\\b\\w*moderate\\w*\\b'\n",
    "df['cancellationpolicy'] = df['cancellationpolicy'].apply(lambda x:re.sub(strict,'strict',x))\n",
    "df['cancellationpolicy'] = df['cancellationpolicy'].apply(lambda x:re.sub(flexible,'flexible',x))\n",
    "df['cancellationpolicy'] = df['cancellationpolicy'].apply(lambda x:re.sub(moderate,'moderate',x))\n",
    "\n",
    "df['cancellationpolicy'].value_counts()\n"
   ]
  },
  {
   "cell_type": "code",
   "execution_count": 26,
   "metadata": {},
   "outputs": [
    {
     "data": {
      "text/plain": [
       "<Axes: xlabel='count', ylabel='cancellationpolicy'>"
      ]
     },
     "execution_count": 26,
     "metadata": {},
     "output_type": "execute_result"
    },
    {
     "data": {
      "image/png": "[encoded data removed]",
      "text/plain": [
       "<Figure size 640x480 with 1 Axes>"
      ]
     },
     "metadata": {},
     "output_type": "display_data"
    }
   ],
   "source": [
    "sns.countplot(df['cancellationpolicy'])"
   ]
  },
  {
   "cell_type": "markdown",
   "metadata": {},
   "source": [
    "### observation\n",
    "- cancellationpolicy can be summarised as strict, flexible, moderate, no refunds."
   ]
  },
  {
   "cell_type": "markdown",
   "metadata": {},
   "source": [
    "### Numerical Columns"
   ]
  },
  {
   "cell_type": "code",
   "execution_count": 27,
   "metadata": {},
   "outputs": [],
   "source": [
    "# for col in numerical_cols:\n",
    "#     sns.histplot(df[col])\n",
    "#     plt.show()"
   ]
  },
  {
   "cell_type": "code",
   "execution_count": 38,
   "metadata": {},
   "outputs": [
    {
     "data": {
      "text/plain": [
       "<Axes: xlabel='reviewscoresrating', ylabel='Count'>"
      ]
     },
     "execution_count": 38,
     "metadata": {},
     "output_type": "execute_result"
    },
    {
     "data": {
      "image/png": "[encoded data removed]",
      "text/plain": [
       "<Figure size 640x480 with 1 Axes>"
      ]
     },
     "metadata": {},
     "output_type": "display_data"
    }
   ],
   "source": [
    "sns.histplot(data=df,x='reviewscoresrating',bins=100,kde=True)"
   ]
  },
  {
   "cell_type": "code",
   "execution_count": 40,
   "metadata": {},
   "outputs": [
    {
     "data": {
      "image/png": "[encoded data removed]",
      "text/plain": [
       "<Figure size 640x480 with 1 Axes>"
      ]
     },
     "metadata": {},
     "output_type": "display_data"
    },
    {
     "data": {
      "image/png": "[encoded data removed]",
      "text/plain": [
       "<Figure size 640x480 with 1 Axes>"
      ]
     },
     "metadata": {},
     "output_type": "display_data"
    },
    {
     "data": {
      "image/png": "[encoded data removed]",
      "text/plain": [
       "<Figure size 640x480 with 1 Axes>"
      ]
     },
     "metadata": {},
     "output_type": "display_data"
    },
    {
     "data": {
      "image/png": "[encoded data removed]",
      "text/plain": [
       "<Figure size 640x480 with 1 Axes>"
      ]
     },
     "metadata": {},
     "output_type": "display_data"
    }
   ],
   "source": [
    "for col in numerical_cols:\n",
    "    sns.histplot(data=df, x=col, bins=100, kde=True)\n",
    "    plt.show()"
   ]
  },
  {
   "cell_type": "code",
   "execution_count": 48,
   "metadata": {},
   "outputs": [
    {
     "name": "stdout",
     "output_type": "stream",
     "text": [
      "shape with extreme values: (345372, 9)\n",
      "\n",
      "shape after deleting extreme values: (345372, 9)\n"
     ]
    }
   ],
   "source": [
    "## removing extreme values from minimumnights and numberofreviews\n",
    "print(f\"shape with extreme values: {df.shape}\\n\")\n",
    "\n",
    "df = df.query(\"minimumnights <= 14 and numberofreviews <= 150\")\n",
    "\n",
    "\n",
    "print(f\"shape after deleting extreme values: {df.shape}\")"
   ]
  },
  {
   "cell_type": "code",
   "execution_count": 49,
   "metadata": {},
   "outputs": [
    {
     "data": {
      "text/html": [
       "<div>\n",
       "<style scoped>\n",
       "    .dataframe tbody tr th:only-of-type {\n",
       "        vertical-align: middle;\n",
       "    }\n",
       "\n",
       "    .dataframe tbody tr th {\n",
       "        vertical-align: top;\n",
       "    }\n",
       "\n",
       "    .dataframe thead th {\n",
       "        text-align: right;\n",
       "    }\n",
       "</style>\n",
       "<table border=\"1\" class=\"dataframe\">\n",
       "  <thead>\n",
       "    <tr style=\"text-align: right;\">\n",
       "      <th></th>\n",
       "      <th>smartlocation</th>\n",
       "      <th>propertytype</th>\n",
       "      <th>roomtype</th>\n",
       "      <th>price</th>\n",
       "      <th>minimumnights</th>\n",
       "      <th>availability365</th>\n",
       "      <th>numberofreviews</th>\n",
       "      <th>reviewscoresrating</th>\n",
       "      <th>cancellationpolicy</th>\n",
       "    </tr>\n",
       "  </thead>\n",
       "  <tbody>\n",
       "    <tr>\n",
       "      <th>0</th>\n",
       "      <td>Amsterdam, Netherlands</td>\n",
       "      <td>Apartment</td>\n",
       "      <td>Entire home/apt</td>\n",
       "      <td>600.0</td>\n",
       "      <td>2.0</td>\n",
       "      <td>74.0</td>\n",
       "      <td>31.0</td>\n",
       "      <td>89.0</td>\n",
       "      <td>strict</td>\n",
       "    </tr>\n",
       "    <tr>\n",
       "      <th>1</th>\n",
       "      <td>Amsterdam, Netherlands</td>\n",
       "      <td>Apartment</td>\n",
       "      <td>Entire home/apt</td>\n",
       "      <td>175.0</td>\n",
       "      <td>2.0</td>\n",
       "      <td>259.0</td>\n",
       "      <td>15.0</td>\n",
       "      <td>99.0</td>\n",
       "      <td>strict</td>\n",
       "    </tr>\n",
       "    <tr>\n",
       "      <th>2</th>\n",
       "      <td>Amsterdam, Netherlands</td>\n",
       "      <td>Apartment</td>\n",
       "      <td>Entire home/apt</td>\n",
       "      <td>125.0</td>\n",
       "      <td>4.0</td>\n",
       "      <td>0.0</td>\n",
       "      <td>1.0</td>\n",
       "      <td>100.0</td>\n",
       "      <td>flexible</td>\n",
       "    </tr>\n",
       "    <tr>\n",
       "      <th>3</th>\n",
       "      <td>Amsterdam, Netherlands</td>\n",
       "      <td>Apartment</td>\n",
       "      <td>Entire home/apt</td>\n",
       "      <td>130.0</td>\n",
       "      <td>3.0</td>\n",
       "      <td>0.0</td>\n",
       "      <td>22.0</td>\n",
       "      <td>97.0</td>\n",
       "      <td>flexible</td>\n",
       "    </tr>\n",
       "    <tr>\n",
       "      <th>4</th>\n",
       "      <td>Amsterdam, Netherlands</td>\n",
       "      <td>Apartment</td>\n",
       "      <td>Entire home/apt</td>\n",
       "      <td>80.0</td>\n",
       "      <td>2.0</td>\n",
       "      <td>326.0</td>\n",
       "      <td>16.0</td>\n",
       "      <td>78.0</td>\n",
       "      <td>moderate</td>\n",
       "    </tr>\n",
       "  </tbody>\n",
       "</table>\n",
       "</div>"
      ],
      "text/plain": [
       "            smartlocation propertytype         roomtype  price  minimumnights  \\\n",
       "0  Amsterdam, Netherlands    Apartment  Entire home/apt  600.0            2.0   \n",
       "1  Amsterdam, Netherlands    Apartment  Entire home/apt  175.0            2.0   \n",
       "2  Amsterdam, Netherlands    Apartment  Entire home/apt  125.0            4.0   \n",
       "3  Amsterdam, Netherlands    Apartment  Entire home/apt  130.0            3.0   \n",
       "4  Amsterdam, Netherlands    Apartment  Entire home/apt   80.0            2.0   \n",
       "\n",
       "   availability365  numberofreviews  reviewscoresrating cancellationpolicy  \n",
       "0             74.0             31.0                89.0             strict  \n",
       "1            259.0             15.0                99.0             strict  \n",
       "2              0.0              1.0               100.0           flexible  \n",
       "3              0.0             22.0                97.0           flexible  \n",
       "4            326.0             16.0                78.0           moderate  "
      ]
     },
     "execution_count": 49,
     "metadata": {},
     "output_type": "execute_result"
    }
   ],
   "source": [
    "df.head()"
   ]
  },
  {
   "cell_type": "code",
   "execution_count": 57,
   "metadata": {},
   "outputs": [],
   "source": [
    "df['smartlocation'] = df['smartlocation'].apply(lambda x: x.split(\",\")[0])"
   ]
  },
  {
   "cell_type": "code",
   "execution_count": 58,
   "metadata": {},
   "outputs": [
    {
     "data": {
      "text/html": [
       "<div>\n",
       "<style scoped>\n",
       "    .dataframe tbody tr th:only-of-type {\n",
       "        vertical-align: middle;\n",
       "    }\n",
       "\n",
       "    .dataframe tbody tr th {\n",
       "        vertical-align: top;\n",
       "    }\n",
       "\n",
       "    .dataframe thead th {\n",
       "        text-align: right;\n",
       "    }\n",
       "</style>\n",
       "<table border=\"1\" class=\"dataframe\">\n",
       "  <thead>\n",
       "    <tr style=\"text-align: right;\">\n",
       "      <th></th>\n",
       "      <th>smartlocation</th>\n",
       "      <th>propertytype</th>\n",
       "      <th>roomtype</th>\n",
       "      <th>price</th>\n",
       "      <th>minimumnights</th>\n",
       "      <th>availability365</th>\n",
       "      <th>numberofreviews</th>\n",
       "      <th>reviewscoresrating</th>\n",
       "      <th>cancellationpolicy</th>\n",
       "    </tr>\n",
       "  </thead>\n",
       "  <tbody>\n",
       "    <tr>\n",
       "      <th>0</th>\n",
       "      <td>Amsterdam</td>\n",
       "      <td>Apartment</td>\n",
       "      <td>Entire home/apt</td>\n",
       "      <td>600.0</td>\n",
       "      <td>2.0</td>\n",
       "      <td>74.0</td>\n",
       "      <td>31.0</td>\n",
       "      <td>89.0</td>\n",
       "      <td>strict</td>\n",
       "    </tr>\n",
       "    <tr>\n",
       "      <th>1</th>\n",
       "      <td>Amsterdam</td>\n",
       "      <td>Apartment</td>\n",
       "      <td>Entire home/apt</td>\n",
       "      <td>175.0</td>\n",
       "      <td>2.0</td>\n",
       "      <td>259.0</td>\n",
       "      <td>15.0</td>\n",
       "      <td>99.0</td>\n",
       "      <td>strict</td>\n",
       "    </tr>\n",
       "    <tr>\n",
       "      <th>2</th>\n",
       "      <td>Amsterdam</td>\n",
       "      <td>Apartment</td>\n",
       "      <td>Entire home/apt</td>\n",
       "      <td>125.0</td>\n",
       "      <td>4.0</td>\n",
       "      <td>0.0</td>\n",
       "      <td>1.0</td>\n",
       "      <td>100.0</td>\n",
       "      <td>flexible</td>\n",
       "    </tr>\n",
       "    <tr>\n",
       "      <th>3</th>\n",
       "      <td>Amsterdam</td>\n",
       "      <td>Apartment</td>\n",
       "      <td>Entire home/apt</td>\n",
       "      <td>130.0</td>\n",
       "      <td>3.0</td>\n",
       "      <td>0.0</td>\n",
       "      <td>22.0</td>\n",
       "      <td>97.0</td>\n",
       "      <td>flexible</td>\n",
       "    </tr>\n",
       "    <tr>\n",
       "      <th>4</th>\n",
       "      <td>Amsterdam</td>\n",
       "      <td>Apartment</td>\n",
       "      <td>Entire home/apt</td>\n",
       "      <td>80.0</td>\n",
       "      <td>2.0</td>\n",
       "      <td>326.0</td>\n",
       "      <td>16.0</td>\n",
       "      <td>78.0</td>\n",
       "      <td>moderate</td>\n",
       "    </tr>\n",
       "  </tbody>\n",
       "</table>\n",
       "</div>"
      ],
      "text/plain": [
       "  smartlocation propertytype         roomtype  price  minimumnights  \\\n",
       "0     Amsterdam    Apartment  Entire home/apt  600.0            2.0   \n",
       "1     Amsterdam    Apartment  Entire home/apt  175.0            2.0   \n",
       "2     Amsterdam    Apartment  Entire home/apt  125.0            4.0   \n",
       "3     Amsterdam    Apartment  Entire home/apt  130.0            3.0   \n",
       "4     Amsterdam    Apartment  Entire home/apt   80.0            2.0   \n",
       "\n",
       "   availability365  numberofreviews  reviewscoresrating cancellationpolicy  \n",
       "0             74.0             31.0                89.0             strict  \n",
       "1            259.0             15.0                99.0             strict  \n",
       "2              0.0              1.0               100.0           flexible  \n",
       "3              0.0             22.0                97.0           flexible  \n",
       "4            326.0             16.0                78.0           moderate  "
      ]
     },
     "execution_count": 58,
     "metadata": {},
     "output_type": "execute_result"
    }
   ],
   "source": [
    "df.head()"
   ]
  },
  {
   "cell_type": "code",
   "execution_count": 61,
   "metadata": {},
   "outputs": [],
   "source": [
    "df.to_csv(\"train.csv\",index=False)"
   ]
  },
  {
   "cell_type": "code",
   "execution_count": null,
   "metadata": {},
   "outputs": [],
   "source": []
  }
 ],
 "metadata": {
  "kernelspec": {
   "display_name": "venv",
   "language": "python",
   "name": "python3"
  },
  "language_info": {
   "codemirror_mode": {
    "name": "ipython",
    "version": 3
   },
   "file_extension": ".py",
   "mimetype": "text/x-python",
   "name": "python",
   "nbconvert_exporter": "python",
   "pygments_lexer": "ipython3",
   "version": "3.10.9"
  },
  "orig_nbformat": 4
 },
 "nbformat": 4,
 "nbformat_minor": 2
}
