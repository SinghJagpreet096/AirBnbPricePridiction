{
 "cells": [
  {
   "cell_type": "markdown",
   "metadata": {},
   "source": [
    "# AirBnb Price Prediction\n",
    "- Understanding problem statement\n",
    "- Data Collection\n",
    "- Data Checks\n",
    "- Exploratory Data Analysis\n",
    "- Data Pre-processing\n",
    "- Model Training\n",
    "- Choose the best model"
   ]
  },
  {
   "cell_type": "markdown",
   "metadata": {},
   "source": [
    "## 1. Problem Statement\n",
    "\n",
    "- The project understands how the price of AirBnb properties is affected with variables such location, property type , Bed type, Availability"
   ]
  },
  {
   "cell_type": "markdown",
   "metadata": {},
   "source": [
    "## 2. Data Collection\n",
    "\n",
    "- Data Source - https://www.kaggle.com/datasets/joebeachcapital/airbnb\n",
    "- Dataset consist of 89 columns and 75k records, we be only using relevent columns."
   ]
  },
  {
   "cell_type": "code",
   "execution_count": 1,
   "metadata": {},
   "outputs": [],
   "source": [
    "import pandas as pd"
   ]
  },
  {
   "cell_type": "code",
   "execution_count": 39,
   "metadata": {},
   "outputs": [],
   "source": [
    "df = pd.read_csv('airbnb-listings.csv',delimiter=';',low_memory=False,usecols=['Price', 'Smart Location', 'Room Type', 'Property Type', 'Bed Type', 'Availability 365', 'Minimum Nights', \n",
    "                 'Number of Reviews', 'Review Scores Rating', 'Cancellation Policy'])"
   ]
  },
  {
   "cell_type": "code",
   "execution_count": 40,
   "metadata": {},
   "outputs": [
    {
     "data": {
      "text/plain": [
       "'A'"
      ]
     },
     "execution_count": 40,
     "metadata": {},
     "output_type": "execute_result"
    }
   ],
   "source": []
  },
  {
   "cell_type": "code",
   "execution_count": 44,
   "metadata": {},
   "outputs": [],
   "source": [
    "df.columns = [col.replace(\" \",\"\").lower() for col in df.columns]"
   ]
  },
  {
   "cell_type": "code",
   "execution_count": 45,
   "metadata": {},
   "outputs": [
    {
     "data": {
      "text/html": [
       "<div>\n",
       "<style scoped>\n",
       "    .dataframe tbody tr th:only-of-type {\n",
       "        vertical-align: middle;\n",
       "    }\n",
       "\n",
       "    .dataframe tbody tr th {\n",
       "        vertical-align: top;\n",
       "    }\n",
       "\n",
       "    .dataframe thead th {\n",
       "        text-align: right;\n",
       "    }\n",
       "</style>\n",
       "<table border=\"1\" class=\"dataframe\">\n",
       "  <thead>\n",
       "    <tr style=\"text-align: right;\">\n",
       "      <th></th>\n",
       "      <th>smartlocation</th>\n",
       "      <th>propertytype</th>\n",
       "      <th>roomtype</th>\n",
       "      <th>bedtype</th>\n",
       "      <th>price</th>\n",
       "      <th>minimumnights</th>\n",
       "      <th>availability365</th>\n",
       "      <th>numberofreviews</th>\n",
       "      <th>reviewscoresrating</th>\n",
       "      <th>cancellationpolicy</th>\n",
       "    </tr>\n",
       "  </thead>\n",
       "  <tbody>\n",
       "    <tr>\n",
       "      <th>0</th>\n",
       "      <td>Amsterdam, Netherlands</td>\n",
       "      <td>Apartment</td>\n",
       "      <td>Entire home/apt</td>\n",
       "      <td>Real Bed</td>\n",
       "      <td>600.0</td>\n",
       "      <td>2.0</td>\n",
       "      <td>74.0</td>\n",
       "      <td>31.0</td>\n",
       "      <td>89.0</td>\n",
       "      <td>strict</td>\n",
       "    </tr>\n",
       "    <tr>\n",
       "      <th>1</th>\n",
       "      <td>Amsterdam, Netherlands</td>\n",
       "      <td>Apartment</td>\n",
       "      <td>Entire home/apt</td>\n",
       "      <td>Real Bed</td>\n",
       "      <td>175.0</td>\n",
       "      <td>2.0</td>\n",
       "      <td>259.0</td>\n",
       "      <td>15.0</td>\n",
       "      <td>99.0</td>\n",
       "      <td>strict</td>\n",
       "    </tr>\n",
       "    <tr>\n",
       "      <th>2</th>\n",
       "      <td>Amsterdam, Netherlands</td>\n",
       "      <td>Apartment</td>\n",
       "      <td>Entire home/apt</td>\n",
       "      <td>Real Bed</td>\n",
       "      <td>125.0</td>\n",
       "      <td>4.0</td>\n",
       "      <td>0.0</td>\n",
       "      <td>1.0</td>\n",
       "      <td>100.0</td>\n",
       "      <td>flexible</td>\n",
       "    </tr>\n",
       "    <tr>\n",
       "      <th>3</th>\n",
       "      <td>Amsterdam, Netherlands</td>\n",
       "      <td>Apartment</td>\n",
       "      <td>Entire home/apt</td>\n",
       "      <td>Real Bed</td>\n",
       "      <td>130.0</td>\n",
       "      <td>3.0</td>\n",
       "      <td>0.0</td>\n",
       "      <td>22.0</td>\n",
       "      <td>97.0</td>\n",
       "      <td>flexible</td>\n",
       "    </tr>\n",
       "    <tr>\n",
       "      <th>4</th>\n",
       "      <td>Amsterdam, Netherlands</td>\n",
       "      <td>Apartment</td>\n",
       "      <td>Entire home/apt</td>\n",
       "      <td>Real Bed</td>\n",
       "      <td>80.0</td>\n",
       "      <td>2.0</td>\n",
       "      <td>326.0</td>\n",
       "      <td>16.0</td>\n",
       "      <td>78.0</td>\n",
       "      <td>moderate</td>\n",
       "    </tr>\n",
       "  </tbody>\n",
       "</table>\n",
       "</div>"
      ],
      "text/plain": [
       "            smartlocation propertytype         roomtype   bedtype  price  \\\n",
       "0  Amsterdam, Netherlands    Apartment  Entire home/apt  Real Bed  600.0   \n",
       "1  Amsterdam, Netherlands    Apartment  Entire home/apt  Real Bed  175.0   \n",
       "2  Amsterdam, Netherlands    Apartment  Entire home/apt  Real Bed  125.0   \n",
       "3  Amsterdam, Netherlands    Apartment  Entire home/apt  Real Bed  130.0   \n",
       "4  Amsterdam, Netherlands    Apartment  Entire home/apt  Real Bed   80.0   \n",
       "\n",
       "   minimumnights  availability365  numberofreviews  reviewscoresrating  \\\n",
       "0            2.0             74.0             31.0                89.0   \n",
       "1            2.0            259.0             15.0                99.0   \n",
       "2            4.0              0.0              1.0               100.0   \n",
       "3            3.0              0.0             22.0                97.0   \n",
       "4            2.0            326.0             16.0                78.0   \n",
       "\n",
       "  cancellationpolicy  \n",
       "0             strict  \n",
       "1             strict  \n",
       "2           flexible  \n",
       "3           flexible  \n",
       "4           moderate  "
      ]
     },
     "execution_count": 45,
     "metadata": {},
     "output_type": "execute_result"
    }
   ],
   "source": [
    "df.head()"
   ]
  },
  {
   "cell_type": "code",
   "execution_count": 46,
   "metadata": {},
   "outputs": [
    {
     "data": {
      "text/html": [
       "<div>\n",
       "<style scoped>\n",
       "    .dataframe tbody tr th:only-of-type {\n",
       "        vertical-align: middle;\n",
       "    }\n",
       "\n",
       "    .dataframe tbody tr th {\n",
       "        vertical-align: top;\n",
       "    }\n",
       "\n",
       "    .dataframe thead th {\n",
       "        text-align: right;\n",
       "    }\n",
       "</style>\n",
       "<table border=\"1\" class=\"dataframe\">\n",
       "  <thead>\n",
       "    <tr style=\"text-align: right;\">\n",
       "      <th></th>\n",
       "      <th>smartlocation</th>\n",
       "      <th>propertytype</th>\n",
       "      <th>roomtype</th>\n",
       "      <th>bedtype</th>\n",
       "      <th>price</th>\n",
       "      <th>minimumnights</th>\n",
       "      <th>availability365</th>\n",
       "      <th>numberofreviews</th>\n",
       "      <th>reviewscoresrating</th>\n",
       "      <th>cancellationpolicy</th>\n",
       "    </tr>\n",
       "  </thead>\n",
       "  <tbody>\n",
       "    <tr>\n",
       "      <th>494949</th>\n",
       "      <td>Footscray, Australia</td>\n",
       "      <td>House</td>\n",
       "      <td>Private room</td>\n",
       "      <td>Real Bed</td>\n",
       "      <td>30.0</td>\n",
       "      <td>1.0</td>\n",
       "      <td>0.0</td>\n",
       "      <td>4.0</td>\n",
       "      <td>60.0</td>\n",
       "      <td>moderate</td>\n",
       "    </tr>\n",
       "    <tr>\n",
       "      <th>494950</th>\n",
       "      <td>Yarraville, Australia</td>\n",
       "      <td>House</td>\n",
       "      <td>Private room</td>\n",
       "      <td>Real Bed</td>\n",
       "      <td>42.0</td>\n",
       "      <td>7.0</td>\n",
       "      <td>358.0</td>\n",
       "      <td>9.0</td>\n",
       "      <td>93.0</td>\n",
       "      <td>moderate</td>\n",
       "    </tr>\n",
       "    <tr>\n",
       "      <th>494951</th>\n",
       "      <td>West Footscray, Australia</td>\n",
       "      <td>House</td>\n",
       "      <td>Private room</td>\n",
       "      <td>Real Bed</td>\n",
       "      <td>33.0</td>\n",
       "      <td>3.0</td>\n",
       "      <td>337.0</td>\n",
       "      <td>3.0</td>\n",
       "      <td>100.0</td>\n",
       "      <td>strict</td>\n",
       "    </tr>\n",
       "    <tr>\n",
       "      <th>494952</th>\n",
       "      <td>Footscray, Australia</td>\n",
       "      <td>Apartment</td>\n",
       "      <td>Entire home/apt</td>\n",
       "      <td>Real Bed</td>\n",
       "      <td>62.0</td>\n",
       "      <td>5.0</td>\n",
       "      <td>28.0</td>\n",
       "      <td>0.0</td>\n",
       "      <td>NaN</td>\n",
       "      <td>flexible</td>\n",
       "    </tr>\n",
       "    <tr>\n",
       "      <th>494953</th>\n",
       "      <td>Kingsville, Australia</td>\n",
       "      <td>House</td>\n",
       "      <td>Private room</td>\n",
       "      <td>Real Bed</td>\n",
       "      <td>47.0</td>\n",
       "      <td>2.0</td>\n",
       "      <td>63.0</td>\n",
       "      <td>0.0</td>\n",
       "      <td>NaN</td>\n",
       "      <td>moderate</td>\n",
       "    </tr>\n",
       "  </tbody>\n",
       "</table>\n",
       "</div>"
      ],
      "text/plain": [
       "                    smartlocation propertytype         roomtype   bedtype  \\\n",
       "494949       Footscray, Australia        House     Private room  Real Bed   \n",
       "494950      Yarraville, Australia        House     Private room  Real Bed   \n",
       "494951  West Footscray, Australia        House     Private room  Real Bed   \n",
       "494952       Footscray, Australia    Apartment  Entire home/apt  Real Bed   \n",
       "494953      Kingsville, Australia        House     Private room  Real Bed   \n",
       "\n",
       "        price  minimumnights  availability365  numberofreviews  \\\n",
       "494949   30.0            1.0              0.0              4.0   \n",
       "494950   42.0            7.0            358.0              9.0   \n",
       "494951   33.0            3.0            337.0              3.0   \n",
       "494952   62.0            5.0             28.0              0.0   \n",
       "494953   47.0            2.0             63.0              0.0   \n",
       "\n",
       "        reviewscoresrating cancellationpolicy  \n",
       "494949                60.0           moderate  \n",
       "494950                93.0           moderate  \n",
       "494951               100.0             strict  \n",
       "494952                 NaN           flexible  \n",
       "494953                 NaN           moderate  "
      ]
     },
     "execution_count": 46,
     "metadata": {},
     "output_type": "execute_result"
    }
   ],
   "source": [
    "df.tail()"
   ]
  },
  {
   "cell_type": "markdown",
   "metadata": {},
   "source": [
    "### 2.2 Data Information\n",
    "- smartlocation = location of the property i.e. city and country\n",
    "- propertytype - type of property (house or apartment)\n",
    "- roomtype - type of room\n",
    "- bedtype - type of bed\n",
    "- price - the target column\n",
    "- minimumnights - minimum nights stays\n",
    "- availability365 - availablity across year\n",
    "- numberofreviews - total number of reviews recieved\n",
    "- reviewscoresrating - rating of reviews\n",
    "- cancellationpolicy - how rigid are the cancelation policies\n",
    "\n"
   ]
  },
  {
   "cell_type": "code",
   "execution_count": 47,
   "metadata": {},
   "outputs": [
    {
     "data": {
      "text/plain": [
       "(494954, 10)"
      ]
     },
     "execution_count": 47,
     "metadata": {},
     "output_type": "execute_result"
    }
   ],
   "source": [
    "## shape of dataset\n",
    "df.shape"
   ]
  },
  {
   "cell_type": "markdown",
   "metadata": {},
   "source": [
    "### 3. Data Checks\n",
    "- Missing Values\n",
    "- Duplicates\n",
    "- Datatypes of variables\n",
    "- check number of unique values for each column\n",
    "- Check Statistics of Dataset\n",
    "- check various categories present in the categorical columns"
   ]
  },
  {
   "cell_type": "markdown",
   "metadata": {},
   "source": [
    "### 3.1 Missing Values\n",
    "\n"
   ]
  },
  {
   "cell_type": "code",
   "execution_count": 48,
   "metadata": {},
   "outputs": [
    {
     "data": {
      "text/plain": [
       "smartlocation         0.000004\n",
       "propertytype          0.000022\n",
       "roomtype              0.000002\n",
       "bedtype               0.000002\n",
       "price                 0.016078\n",
       "minimumnights         0.000004\n",
       "availability365       0.000004\n",
       "numberofreviews       0.000004\n",
       "reviewscoresrating    0.258246\n",
       "cancellationpolicy    0.000004\n",
       "dtype: float64"
      ]
     },
     "execution_count": 48,
     "metadata": {},
     "output_type": "execute_result"
    }
   ],
   "source": [
    "df.isnull().mean()"
   ]
  },
  {
   "cell_type": "markdown",
   "metadata": {},
   "source": [
    "#### Observation\n",
    "- We can see most of the columns have some missing values, we will all missing values"
   ]
  },
  {
   "cell_type": "code",
   "execution_count": 50,
   "metadata": {},
   "outputs": [
    {
     "name": "stdout",
     "output_type": "stream",
     "text": [
      "shape with missing values (494954, 10)\n",
      "\n",
      "shape after removing missing values (362420, 10)\n"
     ]
    }
   ],
   "source": [
    "print(f\"shape with missing values {df.shape}\\n\")\n",
    "\n",
    "df.dropna(inplace=True)\n",
    "\n",
    "print(f\"shape after removing missing values {df.shape}\")"
   ]
  },
  {
   "cell_type": "markdown",
   "metadata": {},
   "source": [
    "### 3.2 Check Duplicates\n",
    "\n"
   ]
  },
  {
   "cell_type": "code",
   "execution_count": 51,
   "metadata": {},
   "outputs": [
    {
     "data": {
      "text/plain": [
       "4302"
      ]
     },
     "execution_count": 51,
     "metadata": {},
     "output_type": "execute_result"
    }
   ],
   "source": [
    "df.duplicated().sum()"
   ]
  },
  {
   "cell_type": "markdown",
   "metadata": {},
   "source": [
    "#### Observation\n",
    "- there are 4302 duplicates, we need to drop"
   ]
  },
  {
   "cell_type": "code",
   "execution_count": 53,
   "metadata": {},
   "outputs": [
    {
     "name": "stdout",
     "output_type": "stream",
     "text": [
      "shape with duplictes (362420, 10)\n",
      "\n",
      "shape after removing duplicates (358118, 10)\n"
     ]
    }
   ],
   "source": [
    "print(f\"shape with duplictes {df.shape}\\n\")\n",
    "\n",
    "df.drop_duplicates(inplace=True)\n",
    "\n",
    "print(f\"shape after removing duplicates {df.shape}\")"
   ]
  },
  {
   "cell_type": "markdown",
   "metadata": {},
   "source": [
    "### 3.3 Check Data types"
   ]
  },
  {
   "cell_type": "code",
   "execution_count": 54,
   "metadata": {},
   "outputs": [
    {
     "name": "stdout",
     "output_type": "stream",
     "text": [
      "<class 'pandas.core.frame.DataFrame'>\n",
      "Index: 358118 entries, 0 to 494951\n",
      "Data columns (total 10 columns):\n",
      " #   Column              Non-Null Count   Dtype  \n",
      "---  ------              --------------   -----  \n",
      " 0   smartlocation       358118 non-null  object \n",
      " 1   propertytype        358118 non-null  object \n",
      " 2   roomtype            358118 non-null  object \n",
      " 3   bedtype             358118 non-null  object \n",
      " 4   price               358118 non-null  float64\n",
      " 5   minimumnights       358118 non-null  float64\n",
      " 6   availability365     358118 non-null  float64\n",
      " 7   numberofreviews     358118 non-null  float64\n",
      " 8   reviewscoresrating  358118 non-null  float64\n",
      " 9   cancellationpolicy  358118 non-null  object \n",
      "dtypes: float64(5), object(5)\n",
      "memory usage: 30.1+ MB\n"
     ]
    }
   ],
   "source": [
    "df.info()"
   ]
  },
  {
   "cell_type": "code",
   "execution_count": null,
   "metadata": {},
   "outputs": [],
   "source": []
  }
 ],
 "metadata": {
  "kernelspec": {
   "display_name": "venv",
   "language": "python",
   "name": "python3"
  },
  "language_info": {
   "codemirror_mode": {
    "name": "ipython",
    "version": 3
   },
   "file_extension": ".py",
   "mimetype": "text/x-python",
   "name": "python",
   "nbconvert_exporter": "python",
   "pygments_lexer": "ipython3",
   "version": "3.10.9"
  },
  "orig_nbformat": 4
 },
 "nbformat": 4,
 "nbformat_minor": 2
}
