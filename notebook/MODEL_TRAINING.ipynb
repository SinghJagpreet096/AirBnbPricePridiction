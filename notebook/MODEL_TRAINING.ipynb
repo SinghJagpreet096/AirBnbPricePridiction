{
 "cells": [
  {
   "cell_type": "markdown",
   "metadata": {},
   "source": [
    "## MODEL TRAINING\n",
    "- Import Data and Required Packages"
   ]
  },
  {
   "cell_type": "code",
   "execution_count": 1,
   "metadata": {},
   "outputs": [],
   "source": [
    "import numpy as np\n",
    "import pandas as pd\n",
    "\n",
    "\n",
    "## modelling \n",
    "\n",
    "from sklearn.model_selection import train_test_split\n",
    "\n",
    "\n",
    "## preprocessing\n",
    "from sklearn.preprocessing import OneHotEncoder,LabelEncoder, StandardScaler, MinMaxScaler\n",
    "from sklearn.compose import ColumnTransformer\n",
    "\n",
    "\n"
   ]
  },
  {
   "cell_type": "code",
   "execution_count": 2,
   "metadata": {},
   "outputs": [],
   "source": [
    "df = pd.read_csv(\"train.csv\")"
   ]
  },
  {
   "cell_type": "code",
   "execution_count": 3,
   "metadata": {},
   "outputs": [
    {
     "data": {
      "text/html": [
       "<div>\n",
       "<style scoped>\n",
       "    .dataframe tbody tr th:only-of-type {\n",
       "        vertical-align: middle;\n",
       "    }\n",
       "\n",
       "    .dataframe tbody tr th {\n",
       "        vertical-align: top;\n",
       "    }\n",
       "\n",
       "    .dataframe thead th {\n",
       "        text-align: right;\n",
       "    }\n",
       "</style>\n",
       "<table border=\"1\" class=\"dataframe\">\n",
       "  <thead>\n",
       "    <tr style=\"text-align: right;\">\n",
       "      <th></th>\n",
       "      <th>smartlocation</th>\n",
       "      <th>roomtype</th>\n",
       "      <th>price</th>\n",
       "      <th>minimumnights</th>\n",
       "      <th>availability365</th>\n",
       "      <th>numberofreviews</th>\n",
       "      <th>reviewscoresrating</th>\n",
       "      <th>cancellationpolicy</th>\n",
       "    </tr>\n",
       "  </thead>\n",
       "  <tbody>\n",
       "    <tr>\n",
       "      <th>0</th>\n",
       "      <td>Amsterdam</td>\n",
       "      <td>Entire home/apt</td>\n",
       "      <td>600.0</td>\n",
       "      <td>2.0</td>\n",
       "      <td>74.0</td>\n",
       "      <td>31.0</td>\n",
       "      <td>89.0</td>\n",
       "      <td>strict</td>\n",
       "    </tr>\n",
       "    <tr>\n",
       "      <th>1</th>\n",
       "      <td>Amsterdam</td>\n",
       "      <td>Entire home/apt</td>\n",
       "      <td>175.0</td>\n",
       "      <td>2.0</td>\n",
       "      <td>259.0</td>\n",
       "      <td>15.0</td>\n",
       "      <td>99.0</td>\n",
       "      <td>strict</td>\n",
       "    </tr>\n",
       "    <tr>\n",
       "      <th>2</th>\n",
       "      <td>Amsterdam</td>\n",
       "      <td>Entire home/apt</td>\n",
       "      <td>125.0</td>\n",
       "      <td>4.0</td>\n",
       "      <td>0.0</td>\n",
       "      <td>1.0</td>\n",
       "      <td>100.0</td>\n",
       "      <td>flexible</td>\n",
       "    </tr>\n",
       "    <tr>\n",
       "      <th>3</th>\n",
       "      <td>Amsterdam</td>\n",
       "      <td>Entire home/apt</td>\n",
       "      <td>130.0</td>\n",
       "      <td>3.0</td>\n",
       "      <td>0.0</td>\n",
       "      <td>22.0</td>\n",
       "      <td>97.0</td>\n",
       "      <td>flexible</td>\n",
       "    </tr>\n",
       "    <tr>\n",
       "      <th>4</th>\n",
       "      <td>Amsterdam</td>\n",
       "      <td>Entire home/apt</td>\n",
       "      <td>80.0</td>\n",
       "      <td>2.0</td>\n",
       "      <td>326.0</td>\n",
       "      <td>16.0</td>\n",
       "      <td>78.0</td>\n",
       "      <td>moderate</td>\n",
       "    </tr>\n",
       "  </tbody>\n",
       "</table>\n",
       "</div>"
      ],
      "text/plain": [
       "  smartlocation         roomtype  price  minimumnights  availability365  \\\n",
       "0     Amsterdam  Entire home/apt  600.0            2.0             74.0   \n",
       "1     Amsterdam  Entire home/apt  175.0            2.0            259.0   \n",
       "2     Amsterdam  Entire home/apt  125.0            4.0              0.0   \n",
       "3     Amsterdam  Entire home/apt  130.0            3.0              0.0   \n",
       "4     Amsterdam  Entire home/apt   80.0            2.0            326.0   \n",
       "\n",
       "   numberofreviews  reviewscoresrating cancellationpolicy  \n",
       "0             31.0                89.0             strict  \n",
       "1             15.0                99.0             strict  \n",
       "2              1.0               100.0           flexible  \n",
       "3             22.0                97.0           flexible  \n",
       "4             16.0                78.0           moderate  "
      ]
     },
     "execution_count": 3,
     "metadata": {},
     "output_type": "execute_result"
    }
   ],
   "source": [
    "df.head()"
   ]
  },
  {
   "cell_type": "code",
   "execution_count": 4,
   "metadata": {},
   "outputs": [
    {
     "data": {
      "text/html": [
       "<div>\n",
       "<style scoped>\n",
       "    .dataframe tbody tr th:only-of-type {\n",
       "        vertical-align: middle;\n",
       "    }\n",
       "\n",
       "    .dataframe tbody tr th {\n",
       "        vertical-align: top;\n",
       "    }\n",
       "\n",
       "    .dataframe thead th {\n",
       "        text-align: right;\n",
       "    }\n",
       "</style>\n",
       "<table border=\"1\" class=\"dataframe\">\n",
       "  <thead>\n",
       "    <tr style=\"text-align: right;\">\n",
       "      <th></th>\n",
       "      <th>smartlocation</th>\n",
       "      <th>roomtype</th>\n",
       "      <th>price</th>\n",
       "      <th>minimumnights</th>\n",
       "      <th>availability365</th>\n",
       "      <th>numberofreviews</th>\n",
       "      <th>reviewscoresrating</th>\n",
       "      <th>cancellationpolicy</th>\n",
       "    </tr>\n",
       "  </thead>\n",
       "  <tbody>\n",
       "    <tr>\n",
       "      <th>345367</th>\n",
       "      <td>Parkdale</td>\n",
       "      <td>Entire home/apt</td>\n",
       "      <td>79.0</td>\n",
       "      <td>1.0</td>\n",
       "      <td>97.0</td>\n",
       "      <td>12.0</td>\n",
       "      <td>95.0</td>\n",
       "      <td>flexible</td>\n",
       "    </tr>\n",
       "    <tr>\n",
       "      <th>345368</th>\n",
       "      <td>Yarraville</td>\n",
       "      <td>Entire home/apt</td>\n",
       "      <td>189.0</td>\n",
       "      <td>3.0</td>\n",
       "      <td>364.0</td>\n",
       "      <td>4.0</td>\n",
       "      <td>95.0</td>\n",
       "      <td>flexible</td>\n",
       "    </tr>\n",
       "    <tr>\n",
       "      <th>345369</th>\n",
       "      <td>Footscray</td>\n",
       "      <td>Private room</td>\n",
       "      <td>30.0</td>\n",
       "      <td>1.0</td>\n",
       "      <td>0.0</td>\n",
       "      <td>4.0</td>\n",
       "      <td>60.0</td>\n",
       "      <td>moderate</td>\n",
       "    </tr>\n",
       "    <tr>\n",
       "      <th>345370</th>\n",
       "      <td>Yarraville</td>\n",
       "      <td>Private room</td>\n",
       "      <td>42.0</td>\n",
       "      <td>7.0</td>\n",
       "      <td>358.0</td>\n",
       "      <td>9.0</td>\n",
       "      <td>93.0</td>\n",
       "      <td>moderate</td>\n",
       "    </tr>\n",
       "    <tr>\n",
       "      <th>345371</th>\n",
       "      <td>West Footscray</td>\n",
       "      <td>Private room</td>\n",
       "      <td>33.0</td>\n",
       "      <td>3.0</td>\n",
       "      <td>337.0</td>\n",
       "      <td>3.0</td>\n",
       "      <td>100.0</td>\n",
       "      <td>strict</td>\n",
       "    </tr>\n",
       "  </tbody>\n",
       "</table>\n",
       "</div>"
      ],
      "text/plain": [
       "         smartlocation         roomtype  price  minimumnights  \\\n",
       "345367        Parkdale  Entire home/apt   79.0            1.0   \n",
       "345368      Yarraville  Entire home/apt  189.0            3.0   \n",
       "345369       Footscray     Private room   30.0            1.0   \n",
       "345370      Yarraville     Private room   42.0            7.0   \n",
       "345371  West Footscray     Private room   33.0            3.0   \n",
       "\n",
       "        availability365  numberofreviews  reviewscoresrating  \\\n",
       "345367             97.0             12.0                95.0   \n",
       "345368            364.0              4.0                95.0   \n",
       "345369              0.0              4.0                60.0   \n",
       "345370            358.0              9.0                93.0   \n",
       "345371            337.0              3.0               100.0   \n",
       "\n",
       "       cancellationpolicy  \n",
       "345367           flexible  \n",
       "345368           flexible  \n",
       "345369           moderate  \n",
       "345370           moderate  \n",
       "345371             strict  "
      ]
     },
     "execution_count": 4,
     "metadata": {},
     "output_type": "execute_result"
    }
   ],
   "source": [
    "df.tail()"
   ]
  },
  {
   "cell_type": "code",
   "execution_count": 5,
   "metadata": {},
   "outputs": [
    {
     "name": "stdout",
     "output_type": "stream",
     "text": [
      "shape of X: (345372, 7)\n",
      "shape of y: (345372,)\n"
     ]
    }
   ],
   "source": [
    "## dependent and independent features\n",
    "\n",
    "X = df.drop('price',axis=1)\n",
    "y = df.price\n",
    "\n",
    "\n",
    "print(f\"shape of X: {X.shape}\")\n",
    "print(f\"shape of y: {y.shape}\")"
   ]
  },
  {
   "cell_type": "code",
   "execution_count": 9,
   "metadata": {},
   "outputs": [
    {
     "name": "stdout",
     "output_type": "stream",
     "text": [
      "shape of X_train: (241760, 7)\n",
      "shape of X_test: (103612, 7)\n",
      "\n",
      "shape of y_train: (241760,)\n",
      "shape of y_test: (103612,)\n"
     ]
    }
   ],
   "source": [
    "cat_cols_ohe = ['roomtype','cancellationpolicy']\n",
    "cat_cols_lb = 'smartlocation'\n",
    "\n",
    "num_cols_st = ['minimumnights','numberofreviews']\n",
    "num_cols_minmax = ['availability365','reviewscoresrating']\n",
    "\n",
    "\n",
    "cat_cols_lb_trans = LabelEncoder()\n",
    "cat_cols_ohe_trans = OneHotEncoder()\n",
    "\n",
    "num_cols_minmax_trans = MinMaxScaler()\n",
    "num_cols_st_trans = StandardScaler()\n",
    "\n",
    "\n",
    "preprocessor = ColumnTransformer([\n",
    "    \n",
    "    # ('lbe',cat_cols_lb_trans,cat_cols_lb),\n",
    "    ('ohe',cat_cols_ohe_trans,cat_cols_ohe),\n",
    "    ('minmax',num_cols_minmax_trans,num_cols_minmax),\n",
    "    ('ss',num_cols_st_trans,num_cols_st)\n",
    "    \n",
    "])\n",
    "\n",
    "\n",
    "X_train, X_test, y_train, y_test = train_test_split(X, y, test_size=0.3, random_state=9)\n",
    "\n",
    "\n",
    "print(f\"shape of X_train: {X_train.shape}\")\n",
    "print(f\"shape of X_test: {X_test.shape}\\n\")\n",
    "print(f\"shape of y_train: {y_train.shape}\")\n",
    "print(f\"shape of y_test: {y_test.shape}\")\n",
    "\n"
   ]
  },
  {
   "cell_type": "code",
   "execution_count": 7,
   "metadata": {},
   "outputs": [
    {
     "data": {
      "text/plain": [
       "array([  93,   93,   93, ..., 1384, 4027, 3904])"
      ]
     },
     "execution_count": 7,
     "metadata": {},
     "output_type": "execute_result"
    }
   ],
   "source": [
    "lb = LabelEncoder()\n",
    "lb.fit_transform(X[cat_cols_lb])"
   ]
  },
  {
   "cell_type": "code",
   "execution_count": 10,
   "metadata": {},
   "outputs": [
    {
     "ename": "ValueError",
     "evalue": "Found unknown categories ['Hampstead Heath', 'London fields hackney', 'Tuckombil', 'Palma de majorqye', '\\x8c 尖沙咀', 'København n ', 'Greenhills', '08014 BARCELONA', 'Plaka - Athens', '香港旺角女人街（中信大厦）', 'Haddington Rd', 'Lamma Island ', 'Montréal-Outremont', 'East Finchley', 'anderlecht ', 'Royal Borough of Kensington and Chelsea ', 'ROXBURY CROSSING', 'Lee green ', 'Wien/', 'Brookyln', 'Barcelona El RAVAL ', 'Brooklyn/Williamsburg', 'Pina (Algaida)', 'Sai Kung ', 'Döbling', 'Brooklyn\\nBrooklyn', \"Shepherd's Bush\", 'Cala Serena (Felanitx)', 'Manchaca', 'Kilternan', 'Colonia Sant Jordi', 'Balham ', 'Blue Knob', 'Siu Sai Wan', 'vanløse', 'Wattle Grove', 'Mission', 'Baile Atha Cliath', 'Mosman Sydney', 'Cala Serena', 'Streatham Hill', 'Paris 8è', 'Londýn', '치펀데일', 'London Fields', 'notting hill', 'Coburg (Melbourne)', 'BE', 'Penia', 'Van nuys', 'Endeavour Hills', 'Centurion Building', 'Dublin 7 ', 'London TW1 2AR', 'Ruffré', 'Ses Olleries', 'palma de Mallorca ', 'Fairy Hill', 'Sandy Point', 'Roxboro', 'Houseboat Chelsea', 'Brooklyn ny ', 'Cypress', 'Гонконг', 'Werrington', 'elmhurst Queens', 'Sainte -Foy', 'Potts point', 'Hampton Court', 'Berlin (Wedding)', 'Fitzroy ', 'Lower East Side', 'Marchmont', 'Granada Hills', 'Cala d`Or - Santanyí', 'Gardena ', 'Tsuen wan ', 'Slidell', 'Daone', 'Badia Gran/Bahia Azul', 'Leith', 'Lugarno', 'Bondi  Sydney', 'Berlin mitte ', '2300', '奥本', '巴黎', 'Rockdale City Council', '威蓝町', 'Sha Tin', 'Los Angeles (North Hollywood)', 'Theresa Creek', 'Chorlton cum Hardy', 'Castello di Fiemme', 'Tyringham', 'Ivry sur Seine', 'Venice - Mestre', 'West Wickham ', 'Horningsea Park', 'Dyssegård', 'Harlem', 'Roma / Trastevere', 'TSEUNG KWAN O', 'Coolgardie', 'Cedar Creek', 'Zocchio', 'Charlottenburg', '3. Bezirk', '10711', 'Phinney Ridge Seattle', 'Calla Millor', '2150', 'wan chai', 'Πλάκα', 'Mooroolbark', 'Cavedago', 'Афины', 'Sherwood Forest', 'Mt Royal', 'Fernleigh', 'Upper Crystal Creek', 'Long Ditton', 'Alexandria ', 'Valcanover', 'London/Wood Green', 'DE', 'NORTH HOLLYWOOD', 'Sa Rapita', 'Paris-3eme-Arrondissement', 'Royal Arsenal Riverside ', 'South Woodford ', 'manacor', 'Castel Fusano - Infernetto ( Roma )', 'Chingford', 'Bernal Heights', 'Wien 15', 'Buena Park', \"Paris-l'Hôpital\", 'Cattai', 'Laken', 'Pacific Plsds', 'Rome-Aurelio', 'Crown Heights ', 'valley village', 'HongKong ', 'Vigo Cavedine', 'Badhoevedorp', 'Wong Tai Sin', 'venezia ', 'roma\\nroma', '上環', 'arco', 'Mestre (VE)', 'Pieve', 'Praharan ', 'Rome ', 'Oakland ', 'Newham', 'Ostia - Rome', 'Port des Canonge / Palma', 'Cala morlanda', 'San Antonio', 'Road Shepherds Bush', 'Lynbrook', 'venice beach', 'Lantau Peak', '킹스턴 어폰 세임스', 'Tione di Trento', 'Brussels-Centre', 'Chalandri', 'Diemen', 'Pedersano', 'Shankill', 'Keilor Downs', 'Cranbourne West', 'magaluf ', 'Elizabeth Bay / Sydney', 'Queens NY', 'Elmuhrust', 'Long Island city ', 'Dublin D03 NP84', 'PALMA DE MALLORCA', 'Burraneer/Cronulla', 'Dartford', 'Rome 00152', 'South End', 'Rileys Hill', 'Landstrasse', '红磡，黄埔', 'Sheungwan ', 'lido di ostia roma', 'London Borough of Richmond upon Thames', 'Clonee', 'terlago', 'Berlin - Schöneberg', 'Østerbro', 'Maroubra Beach', 'Northern Quarter', 'City West', 'Ville del Monte', 'Can Picaford ', 'Rowland height ', 'Tai O', 'elwood', 'Knockrow', 'Ongar Green', 'Nørrebro ', 'vernier', 'Dese -Venice', '香港尖沙咀', 'Cudgera Creek', 'Willesden ', 'Carss Park', 'Canoelands', 'Eivissa', 'Loftus', 'Shepherds Bush ', 'Clapton', 'Reino Unido', 'Williamsburg bk', 'Yau Tsim Mong ', 'Terranora', 'loughshinny', 'Harmondsworth', 'Merrion Road ', 'Lac-Delage', 'Llucmayor', 'Arcadia ', 'Deurne', 'Viry', 'antioch', 'Mezzolombardo', 'Balmoral ', 'Cowan', 'Flavon', 'Oval', 'Sydhavn', 'Pearces Creek', 'Vienna 9.Bezirk', 'londra', '沙田區大圍', 'Saint Clair', 'Middleton Grange', 'pyrmont', 'Stokers Siding Via Dunbible', 'san francisco', 'Jamaica Plain ', 'Albert Park Melbourne', 'Berlin-Kreuzberg', 'East Brunswick ', 'Loughborough Estate', 'Bk', 'Cala bona', 'St Andrews', 'Orchard Hills', 'Santa Ponsa ( Mallorca)', 'Tai Hang (Causeway Bay)', 'Urbanització Bellavista', 'Georgetown', 'Madonna di Campiglio ', 'Ventas', 'Pacific Beach San Diego', 'Sunland', 'Paris 19eme', 'Southfields', 'Дублин', 'Hackney Wick', 'Ocean Beach ', 'Dublin airport ', 'Fitzrovia ', 'Green Lanes', 'Marayong', 'Currans Hill', 'Kipling Estate', 'Ixelles/Elsene', 'BARCELONA CLOT', 'Santa Eugenia', 'Muro ', 'East St. Kilda', 'ozone park queens ', 'Child Lane Greenwich', 'Plainpalais', 'Toronto\\nToronto', 'Playa de Muro BALEARES', 'puerto Andratx', 'Lindendale', 'Cabarita', '沙田大圍 Shatin Taiwai', 'Mitte', '南雅拉', 'Kingston Upon Thames', 'Venice (Los Angeles)', 'Harolds Cross Road', 'Taylors Lakes', 'Cala Santanyí  ', 'Erskineville ', 'Geneve ', 'Mcmahons point', 'Amsterdam West', 'Cambridge Park', 'Valyermo', 'Kogarah ', 'Αθήνα Sepolia ', 'Mount Hermon', 'Hannibal Road', 'Esporlas', 'puerto alcudia', 'Kensal Green', 'Guidonia', '角旺', 'Mid Levels ', 'Central SOHO', 'Berala', 'Favrio', 'Irwin Street', 'Puerto de Pollensa', 'Ap Lei Chau', 'Wandsworth Common ', 'Alsergrund', 'Son Veri Nou ', 'Palmers Green ', 'Kirra beach ', 'ALGAIDA', 'San Bernardo', 'The Ward', 'MADRID', 'Tai Kok Tsui ', \"Madonna di Campiglio - Sant'Antonio di Mavignola\", 'Tottenham London lympne  green  building  green ', 'La Elipa', 'Puplinge', 'Rickmansworth', '2', 'TSIM SHA TSUI', 'Fairlight (Manly)', \"St Leonard's/North Sydney\", 'Casuarina ', 'Molina di Ledro', 'Copenhaguen', 'Paris 09', 'Danderhall', 'pollenca', 'East Village', 'Skye', 'ベニス', 'sheung wan', 'South Woodford', 'Costasavina', 'Paris 07', 'El Toro (Calvia)', 'Choulex', 'Bondi Junction ', 'Toronto/North York', 'hollywood', 'Central Midlevel', 'Geneva-Plan-les-Ouates', 'Cala d or', 'BYRON BAY', 'Berlin-Charlottenburg', 'Phillips Ranch ', 'Albion', 'Shek Tong Tsui', 'London Borough of Ealing', 'Moabit', '灣仔', 'Dunbible', 'Carshalton Beeches', 'Brussels ', 'Bronte ', 'LA CROIX-DE-ROZON', 'Tragliatella Campitello', 'ostia ', 'EL ARENAL', 'Kirkham', 'Deptford', 'swords', 'Calla Mendia', 'Biggin Hill', 'ΠΕΤΡΆΛΩΝΑ', 'Mission Valley', 'saint mandé', 'Santa Maria', 'Hongkong ', 'BINISSALEM', 'Rowland heights ', 'Pearcedale', 'zetland', 'Città Metropolitana di Venezia', 'Kbh. V', 'Jardan', 'Ciampino Aeroporto', 'North point ', 'Malé', 'Kingston ', 'UCCLE', 'FRB', \"Paris  ( près de la  Gare du Nord RER B: direct d'Orly et de Roissy\", 'Hong Kong  Tsim Sha Tsui', 'Menzies Creek', 'Balmain / Birchgrove', '芒特韦弗利区', 'Manly/Queenscliff', 'Forest hills', 'MURANO VENEZIA', '75020 Paris', 'Kurnell', 'Vaticano', 'GRANADA HILLS', 'NEW YORK', 'Newbridge', '九龙', 'Tottenham Hale', 'Cas catala ', '07560', 'Bcn', 'Austin station Jordan ', 'SOUTH GOLDEN BEACH', 'east Boston ', 'kingsbury', 'South Bermondsey', 'Rozelle / Balmain', 'Anjou', 'Bend Of Islands', 'Isle of Dogs', \"Dolphin's Barn\", 'queens', 'Bow', 'BRUSSEL ( STAD )', 'Frederiksberg/ Copenhagen ', '75016', 'Central Midlevels', 'binissalem', '哈罗', 'torrenova', 'Copenhagen S ', 'S´Horta', 'North Curl Curl (near Manly)', \"Sant'Orsola Terme\", 'Briar Hill', 'San Pietro Roma', 'Porto Petro', 'Copenhagen W', 'Campo Carlo Magno - Località Plan', 'Josefstadt', 'Road Stoke Newington', 'vanves', '西貢區', 'Fondo', 'Grumes', 'Sa Font Seca', 'Tai Po District', 'Water Gardens Square', 'Vetriolo Terme', 'North Finchley', 'Soquel -Santa Cruz', \"s'Almunia\", 'Crumlin Village', 'Campestrini', 'jamaica', 'Seven Hills', 'woodland hills', 'Seven Hills    ', 'Llubi', 'Genève Champel', 'Chum Creek/Healesville', 'Balgriffin ', 'Acropoli Koukaki ', 'Motspur Park', 'Studio city ', 'City West ', 'colonia de sant Jordi', 'Dalry', 'Greenpoint ', 'SA CABANETA', 'Stratford London', 'Geneve', 'Wanstead', 'cala figuera', 'moscari', 'Αθηναίων', 'Playas de Muro', 'Carroll Gardens', '2500', 'Redo do beach', 'Pakenham Upper', 'Virti', 'Roveré della Luna', 'Kings Langley', 'Harolds Cross', 'Copenhagen Ø', 'Loughshinny', '旺角亞皆老街83號 (83 Argyle St. Mong Kong)', 'Heathrow ', 'Upper Wilsons Creek', 'Mornington Crescent', 'Stretford', 'Sant adria de besos', 'Drena', 'sherman oaks', 'Grove Park', '威尼斯Venezia', 'Alcanada', 'Lysterfield', 'Kilmacud', 'Athina-Plaka', 'st kilda east', 'Carool', 'Rudolfsheim-Fünfhaus', 'San Marco', 'VENEZIA', 'Prahran / Toorak ', 'Staten island ', 'York Road', 'Spain', 'Sylmar', 'Barcelona Sant Andreu de Palomar', 'Manacor - Calas de Mallorca', 'Es Secar de la Real', 'University heights', 'Seregnano', 'Galilea ', 'Portland ', 'ParisParis', 'Rollingwood', 'Brussels - Anderlecht', 'Kingsbury', 'Beverly Hills ', 'North Fitzroy ', 'Greystanes ', 'East Finchley ', 'Antwerpen Borgerhout', 'Celbridge', 'puerto Pollença', 'Piano', 'Bondi Junction Sydney ', 'Fawkner', 'LLENAIRE', 'Ivanhoe (Melbourne)', 'Prestons', 'Lavarone Trento', 'Torvaianica', 'Kbh sv', 'Mitte-Berlin', 'Colinton', 'Woodhaven ', 'Bruxelles Schaerbeek', 'Cinecitta', 'wien ottakring', 'Enguiso', 'Phillip Bay', 'København k ', 'Berlin-Wedding', 'Ampelokipi', 'Inchicore ', 'Alberoni', 'Olgiata', 'West Hoxton', 'Ledro - Mezzolago', 'Berlin Schöneberg', 'Malakoff', 'Glencullen ', 'Sham Shui Po District', 'Windsor Hills', 'Manacor - S´Espinagar', 'Los ', '宝活', 'Mount Toolebewong', 'Castel di Leva', 'Midlevels ', 'Lido di Venezia ', 'Sans Souci ', 'Old Toongabbie', 'Sa torre', '柏林', 'inca', 'VIGO DI FASSA', 'Nine Elms', 'Амстердам', 'New Cross ', 'Londo', 'Lismore Heights', 'northolt london', 'East Twickenham', '00165', 'Nørrrebro', 'Peckham London ', 'North Lotts', 'Hampstead ', 'Little bay', 'Рим', 'Tsim sha tsui ', '九龍 Kowloon', 'Eastern District', 'PorreresPalma de Mallorca', 'st kikda east', 'Staineri', 'KBH V ', \"Port d'es Canonge\", 'Ses Cadenes', 'Calvià - Magalluf', 'Roma trastevere', 'Eltham North', 'αθηνα', 'Le Plateau', 'eaglemont ', 'Berlin Weißensee', 'Christchuch', 'pto Alcúdia', 'ウィーン', 'Berlin Mitte', 'St. Albans', 'Serrada', 'Manly beacon hill ', 'Berlin Prenzlauer Berg ', 'Toronto M5S 2L6', 'South Kensington Station', 'København n', 'NT ', 'Sa Marineta', 'Dublin 6w', 'Kenney Town ', '旺角 (Mong Kong)', 'La Jolla San Diego', 'Los Angeles90064', 'Sai Kung District', 'Rue de Turenne', 'Kirrawee', 'Segonzano', \"Shephard's Bush\", '7. Bezirk', 'Brigittenau', 'BRUNSWICK EAST', 'Quartz Hill', 'Copenhagen N (Nørrebro)', 'Tooting Bec', 'Springvale South', 'Brimbank City', 'Venise Dorsoduro', 'Sint-Agatha-Berchem', 'City of London', 'Wapping', 'Templestowe Lower', 'Dolls Point ', 'Byron Bay ', 'Juniper drive', 'Oxford Falls', 'Macquarie Fields', 'Doreen', 'Alstonvale', 'Queens/Corona/New York', \"Hell's Kitchen\", 'Castel Spine fraz. Lundo (TN)', 'MIDDLE VILLAGE', 'Athina ', 'Vesterbro ', 'sa torre', 'Halfweg', 'Broadway', 'Terlago', 'Beauport', 'Armadale North', 'Fresh Meadows', 'Lucas Close', 'villa verde bajo', 'Quarry Bay ', 'BATTERSEA', 'Montuïri/Randa', 'Leonay', 'Toluca lake', 'Beverly Hills/Los Angeles', 'Oakhurst', 'Clyde North', 'Mississauga', 'Beattock Close', 'Nederland', 'Park Slope', 'Santry Cross', 'Causeway bay', 'Hung Hom ', 'Wiedeń', 'Dublin 6W', 'North Hollywood/Burbank', 'Cala Santanyi ', 'Castleforbes Road', \"Cala s'Almonia\", 'Llandilo', 'deia', 'Hackney road', 'Connells Point'] in column 2 during transform",
     "output_type": "error",
     "traceback": [
      "\u001b[0;31m---------------------------------------------------------------------------\u001b[0m",
      "\u001b[0;31mValueError\u001b[0m                                Traceback (most recent call last)",
      "\u001b[1;32m/Users/jagpreetsingh/ML_Projects/airbnbpriceprediction/notebook/MODEL_TRAINING.ipynb Cell 9\u001b[0m line \u001b[0;36m2\n\u001b[1;32m      <a href='vscode-notebook-cell:/Users/jagpreetsingh/ML_Projects/airbnbpriceprediction/notebook/MODEL_TRAINING.ipynb#X12sZmlsZQ%3D%3D?line=0'>1</a>\u001b[0m X_train \u001b[39m=\u001b[39m preprocessor\u001b[39m.\u001b[39mfit_transform(X_train)\n\u001b[0;32m----> <a href='vscode-notebook-cell:/Users/jagpreetsingh/ML_Projects/airbnbpriceprediction/notebook/MODEL_TRAINING.ipynb#X12sZmlsZQ%3D%3D?line=1'>2</a>\u001b[0m X_test \u001b[39m=\u001b[39m preprocessor\u001b[39m.\u001b[39;49mtransform(X_test)\n",
      "File \u001b[0;32m~/ML_Projects/airbnbpriceprediction/venv/lib/python3.10/site-packages/sklearn/utils/_set_output.py:157\u001b[0m, in \u001b[0;36m_wrap_method_output.<locals>.wrapped\u001b[0;34m(self, X, *args, **kwargs)\u001b[0m\n\u001b[1;32m    155\u001b[0m \u001b[39m@wraps\u001b[39m(f)\n\u001b[1;32m    156\u001b[0m \u001b[39mdef\u001b[39;00m \u001b[39mwrapped\u001b[39m(\u001b[39mself\u001b[39m, X, \u001b[39m*\u001b[39margs, \u001b[39m*\u001b[39m\u001b[39m*\u001b[39mkwargs):\n\u001b[0;32m--> 157\u001b[0m     data_to_wrap \u001b[39m=\u001b[39m f(\u001b[39mself\u001b[39;49m, X, \u001b[39m*\u001b[39;49margs, \u001b[39m*\u001b[39;49m\u001b[39m*\u001b[39;49mkwargs)\n\u001b[1;32m    158\u001b[0m     \u001b[39mif\u001b[39;00m \u001b[39misinstance\u001b[39m(data_to_wrap, \u001b[39mtuple\u001b[39m):\n\u001b[1;32m    159\u001b[0m         \u001b[39m# only wrap the first output for cross decomposition\u001b[39;00m\n\u001b[1;32m    160\u001b[0m         return_tuple \u001b[39m=\u001b[39m (\n\u001b[1;32m    161\u001b[0m             _wrap_data_with_container(method, data_to_wrap[\u001b[39m0\u001b[39m], X, \u001b[39mself\u001b[39m),\n\u001b[1;32m    162\u001b[0m             \u001b[39m*\u001b[39mdata_to_wrap[\u001b[39m1\u001b[39m:],\n\u001b[1;32m    163\u001b[0m         )\n",
      "File \u001b[0;32m~/ML_Projects/airbnbpriceprediction/venv/lib/python3.10/site-packages/sklearn/compose/_column_transformer.py:827\u001b[0m, in \u001b[0;36mColumnTransformer.transform\u001b[0;34m(self, X)\u001b[0m\n\u001b[1;32m    822\u001b[0m \u001b[39melse\u001b[39;00m:\n\u001b[1;32m    823\u001b[0m     \u001b[39m# ndarray was used for fitting or transforming, thus we only\u001b[39;00m\n\u001b[1;32m    824\u001b[0m     \u001b[39m# check that n_features_in_ is consistent\u001b[39;00m\n\u001b[1;32m    825\u001b[0m     \u001b[39mself\u001b[39m\u001b[39m.\u001b[39m_check_n_features(X, reset\u001b[39m=\u001b[39m\u001b[39mFalse\u001b[39;00m)\n\u001b[0;32m--> 827\u001b[0m Xs \u001b[39m=\u001b[39m \u001b[39mself\u001b[39;49m\u001b[39m.\u001b[39;49m_fit_transform(\n\u001b[1;32m    828\u001b[0m     X,\n\u001b[1;32m    829\u001b[0m     \u001b[39mNone\u001b[39;49;00m,\n\u001b[1;32m    830\u001b[0m     _transform_one,\n\u001b[1;32m    831\u001b[0m     fitted\u001b[39m=\u001b[39;49m\u001b[39mTrue\u001b[39;49;00m,\n\u001b[1;32m    832\u001b[0m     column_as_strings\u001b[39m=\u001b[39;49mfit_dataframe_and_transform_dataframe,\n\u001b[1;32m    833\u001b[0m )\n\u001b[1;32m    834\u001b[0m \u001b[39mself\u001b[39m\u001b[39m.\u001b[39m_validate_output(Xs)\n\u001b[1;32m    836\u001b[0m \u001b[39mif\u001b[39;00m \u001b[39mnot\u001b[39;00m Xs:\n\u001b[1;32m    837\u001b[0m     \u001b[39m# All transformers are None\u001b[39;00m\n",
      "File \u001b[0;32m~/ML_Projects/airbnbpriceprediction/venv/lib/python3.10/site-packages/sklearn/compose/_column_transformer.py:681\u001b[0m, in \u001b[0;36mColumnTransformer._fit_transform\u001b[0;34m(self, X, y, func, fitted, column_as_strings)\u001b[0m\n\u001b[1;32m    675\u001b[0m transformers \u001b[39m=\u001b[39m \u001b[39mlist\u001b[39m(\n\u001b[1;32m    676\u001b[0m     \u001b[39mself\u001b[39m\u001b[39m.\u001b[39m_iter(\n\u001b[1;32m    677\u001b[0m         fitted\u001b[39m=\u001b[39mfitted, replace_strings\u001b[39m=\u001b[39m\u001b[39mTrue\u001b[39;00m, column_as_strings\u001b[39m=\u001b[39mcolumn_as_strings\n\u001b[1;32m    678\u001b[0m     )\n\u001b[1;32m    679\u001b[0m )\n\u001b[1;32m    680\u001b[0m \u001b[39mtry\u001b[39;00m:\n\u001b[0;32m--> 681\u001b[0m     \u001b[39mreturn\u001b[39;00m Parallel(n_jobs\u001b[39m=\u001b[39;49m\u001b[39mself\u001b[39;49m\u001b[39m.\u001b[39;49mn_jobs)(\n\u001b[1;32m    682\u001b[0m         delayed(func)(\n\u001b[1;32m    683\u001b[0m             transformer\u001b[39m=\u001b[39;49mclone(trans) \u001b[39mif\u001b[39;49;00m \u001b[39mnot\u001b[39;49;00m fitted \u001b[39melse\u001b[39;49;00m trans,\n\u001b[1;32m    684\u001b[0m             X\u001b[39m=\u001b[39;49m_safe_indexing(X, column, axis\u001b[39m=\u001b[39;49m\u001b[39m1\u001b[39;49m),\n\u001b[1;32m    685\u001b[0m             y\u001b[39m=\u001b[39;49my,\n\u001b[1;32m    686\u001b[0m             weight\u001b[39m=\u001b[39;49mweight,\n\u001b[1;32m    687\u001b[0m             message_clsname\u001b[39m=\u001b[39;49m\u001b[39m\"\u001b[39;49m\u001b[39mColumnTransformer\u001b[39;49m\u001b[39m\"\u001b[39;49m,\n\u001b[1;32m    688\u001b[0m             message\u001b[39m=\u001b[39;49m\u001b[39mself\u001b[39;49m\u001b[39m.\u001b[39;49m_log_message(name, idx, \u001b[39mlen\u001b[39;49m(transformers)),\n\u001b[1;32m    689\u001b[0m         )\n\u001b[1;32m    690\u001b[0m         \u001b[39mfor\u001b[39;49;00m idx, (name, trans, column, weight) \u001b[39min\u001b[39;49;00m \u001b[39menumerate\u001b[39;49m(transformers, \u001b[39m1\u001b[39;49m)\n\u001b[1;32m    691\u001b[0m     )\n\u001b[1;32m    692\u001b[0m \u001b[39mexcept\u001b[39;00m \u001b[39mValueError\u001b[39;00m \u001b[39mas\u001b[39;00m e:\n\u001b[1;32m    693\u001b[0m     \u001b[39mif\u001b[39;00m \u001b[39m\"\u001b[39m\u001b[39mExpected 2D array, got 1D array instead\u001b[39m\u001b[39m\"\u001b[39m \u001b[39min\u001b[39;00m \u001b[39mstr\u001b[39m(e):\n",
      "File \u001b[0;32m~/ML_Projects/airbnbpriceprediction/venv/lib/python3.10/site-packages/sklearn/utils/parallel.py:65\u001b[0m, in \u001b[0;36mParallel.__call__\u001b[0;34m(self, iterable)\u001b[0m\n\u001b[1;32m     60\u001b[0m config \u001b[39m=\u001b[39m get_config()\n\u001b[1;32m     61\u001b[0m iterable_with_config \u001b[39m=\u001b[39m (\n\u001b[1;32m     62\u001b[0m     (_with_config(delayed_func, config), args, kwargs)\n\u001b[1;32m     63\u001b[0m     \u001b[39mfor\u001b[39;00m delayed_func, args, kwargs \u001b[39min\u001b[39;00m iterable\n\u001b[1;32m     64\u001b[0m )\n\u001b[0;32m---> 65\u001b[0m \u001b[39mreturn\u001b[39;00m \u001b[39msuper\u001b[39;49m()\u001b[39m.\u001b[39;49m\u001b[39m__call__\u001b[39;49m(iterable_with_config)\n",
      "File \u001b[0;32m~/ML_Projects/airbnbpriceprediction/venv/lib/python3.10/site-packages/joblib/parallel.py:1863\u001b[0m, in \u001b[0;36mParallel.__call__\u001b[0;34m(self, iterable)\u001b[0m\n\u001b[1;32m   1861\u001b[0m     output \u001b[39m=\u001b[39m \u001b[39mself\u001b[39m\u001b[39m.\u001b[39m_get_sequential_output(iterable)\n\u001b[1;32m   1862\u001b[0m     \u001b[39mnext\u001b[39m(output)\n\u001b[0;32m-> 1863\u001b[0m     \u001b[39mreturn\u001b[39;00m output \u001b[39mif\u001b[39;00m \u001b[39mself\u001b[39m\u001b[39m.\u001b[39mreturn_generator \u001b[39melse\u001b[39;00m \u001b[39mlist\u001b[39;49m(output)\n\u001b[1;32m   1865\u001b[0m \u001b[39m# Let's create an ID that uniquely identifies the current call. If the\u001b[39;00m\n\u001b[1;32m   1866\u001b[0m \u001b[39m# call is interrupted early and that the same instance is immediately\u001b[39;00m\n\u001b[1;32m   1867\u001b[0m \u001b[39m# re-used, this id will be used to prevent workers that were\u001b[39;00m\n\u001b[1;32m   1868\u001b[0m \u001b[39m# concurrently finalizing a task from the previous call to run the\u001b[39;00m\n\u001b[1;32m   1869\u001b[0m \u001b[39m# callback.\u001b[39;00m\n\u001b[1;32m   1870\u001b[0m \u001b[39mwith\u001b[39;00m \u001b[39mself\u001b[39m\u001b[39m.\u001b[39m_lock:\n",
      "File \u001b[0;32m~/ML_Projects/airbnbpriceprediction/venv/lib/python3.10/site-packages/joblib/parallel.py:1792\u001b[0m, in \u001b[0;36mParallel._get_sequential_output\u001b[0;34m(self, iterable)\u001b[0m\n\u001b[1;32m   1790\u001b[0m \u001b[39mself\u001b[39m\u001b[39m.\u001b[39mn_dispatched_batches \u001b[39m+\u001b[39m\u001b[39m=\u001b[39m \u001b[39m1\u001b[39m\n\u001b[1;32m   1791\u001b[0m \u001b[39mself\u001b[39m\u001b[39m.\u001b[39mn_dispatched_tasks \u001b[39m+\u001b[39m\u001b[39m=\u001b[39m \u001b[39m1\u001b[39m\n\u001b[0;32m-> 1792\u001b[0m res \u001b[39m=\u001b[39m func(\u001b[39m*\u001b[39;49margs, \u001b[39m*\u001b[39;49m\u001b[39m*\u001b[39;49mkwargs)\n\u001b[1;32m   1793\u001b[0m \u001b[39mself\u001b[39m\u001b[39m.\u001b[39mn_completed_tasks \u001b[39m+\u001b[39m\u001b[39m=\u001b[39m \u001b[39m1\u001b[39m\n\u001b[1;32m   1794\u001b[0m \u001b[39mself\u001b[39m\u001b[39m.\u001b[39mprint_progress()\n",
      "File \u001b[0;32m~/ML_Projects/airbnbpriceprediction/venv/lib/python3.10/site-packages/sklearn/utils/parallel.py:127\u001b[0m, in \u001b[0;36m_FuncWrapper.__call__\u001b[0;34m(self, *args, **kwargs)\u001b[0m\n\u001b[1;32m    125\u001b[0m     config \u001b[39m=\u001b[39m {}\n\u001b[1;32m    126\u001b[0m \u001b[39mwith\u001b[39;00m config_context(\u001b[39m*\u001b[39m\u001b[39m*\u001b[39mconfig):\n\u001b[0;32m--> 127\u001b[0m     \u001b[39mreturn\u001b[39;00m \u001b[39mself\u001b[39;49m\u001b[39m.\u001b[39;49mfunction(\u001b[39m*\u001b[39;49margs, \u001b[39m*\u001b[39;49m\u001b[39m*\u001b[39;49mkwargs)\n",
      "File \u001b[0;32m~/ML_Projects/airbnbpriceprediction/venv/lib/python3.10/site-packages/sklearn/pipeline.py:940\u001b[0m, in \u001b[0;36m_transform_one\u001b[0;34m(transformer, X, y, weight, **fit_params)\u001b[0m\n\u001b[1;32m    939\u001b[0m \u001b[39mdef\u001b[39;00m \u001b[39m_transform_one\u001b[39m(transformer, X, y, weight, \u001b[39m*\u001b[39m\u001b[39m*\u001b[39mfit_params):\n\u001b[0;32m--> 940\u001b[0m     res \u001b[39m=\u001b[39m transformer\u001b[39m.\u001b[39;49mtransform(X)\n\u001b[1;32m    941\u001b[0m     \u001b[39m# if we have a weight for this transformer, multiply output\u001b[39;00m\n\u001b[1;32m    942\u001b[0m     \u001b[39mif\u001b[39;00m weight \u001b[39mis\u001b[39;00m \u001b[39mNone\u001b[39;00m:\n",
      "File \u001b[0;32m~/ML_Projects/airbnbpriceprediction/venv/lib/python3.10/site-packages/sklearn/utils/_set_output.py:157\u001b[0m, in \u001b[0;36m_wrap_method_output.<locals>.wrapped\u001b[0;34m(self, X, *args, **kwargs)\u001b[0m\n\u001b[1;32m    155\u001b[0m \u001b[39m@wraps\u001b[39m(f)\n\u001b[1;32m    156\u001b[0m \u001b[39mdef\u001b[39;00m \u001b[39mwrapped\u001b[39m(\u001b[39mself\u001b[39m, X, \u001b[39m*\u001b[39margs, \u001b[39m*\u001b[39m\u001b[39m*\u001b[39mkwargs):\n\u001b[0;32m--> 157\u001b[0m     data_to_wrap \u001b[39m=\u001b[39m f(\u001b[39mself\u001b[39;49m, X, \u001b[39m*\u001b[39;49margs, \u001b[39m*\u001b[39;49m\u001b[39m*\u001b[39;49mkwargs)\n\u001b[1;32m    158\u001b[0m     \u001b[39mif\u001b[39;00m \u001b[39misinstance\u001b[39m(data_to_wrap, \u001b[39mtuple\u001b[39m):\n\u001b[1;32m    159\u001b[0m         \u001b[39m# only wrap the first output for cross decomposition\u001b[39;00m\n\u001b[1;32m    160\u001b[0m         return_tuple \u001b[39m=\u001b[39m (\n\u001b[1;32m    161\u001b[0m             _wrap_data_with_container(method, data_to_wrap[\u001b[39m0\u001b[39m], X, \u001b[39mself\u001b[39m),\n\u001b[1;32m    162\u001b[0m             \u001b[39m*\u001b[39mdata_to_wrap[\u001b[39m1\u001b[39m:],\n\u001b[1;32m    163\u001b[0m         )\n",
      "File \u001b[0;32m~/ML_Projects/airbnbpriceprediction/venv/lib/python3.10/site-packages/sklearn/preprocessing/_encoders.py:1027\u001b[0m, in \u001b[0;36mOneHotEncoder.transform\u001b[0;34m(self, X)\u001b[0m\n\u001b[1;32m   1022\u001b[0m \u001b[39m# validation of X happens in _check_X called by _transform\u001b[39;00m\n\u001b[1;32m   1023\u001b[0m warn_on_unknown \u001b[39m=\u001b[39m \u001b[39mself\u001b[39m\u001b[39m.\u001b[39mdrop \u001b[39mis\u001b[39;00m \u001b[39mnot\u001b[39;00m \u001b[39mNone\u001b[39;00m \u001b[39mand\u001b[39;00m \u001b[39mself\u001b[39m\u001b[39m.\u001b[39mhandle_unknown \u001b[39min\u001b[39;00m {\n\u001b[1;32m   1024\u001b[0m     \u001b[39m\"\u001b[39m\u001b[39mignore\u001b[39m\u001b[39m\"\u001b[39m,\n\u001b[1;32m   1025\u001b[0m     \u001b[39m\"\u001b[39m\u001b[39minfrequent_if_exist\u001b[39m\u001b[39m\"\u001b[39m,\n\u001b[1;32m   1026\u001b[0m }\n\u001b[0;32m-> 1027\u001b[0m X_int, X_mask \u001b[39m=\u001b[39m \u001b[39mself\u001b[39;49m\u001b[39m.\u001b[39;49m_transform(\n\u001b[1;32m   1028\u001b[0m     X,\n\u001b[1;32m   1029\u001b[0m     handle_unknown\u001b[39m=\u001b[39;49m\u001b[39mself\u001b[39;49m\u001b[39m.\u001b[39;49mhandle_unknown,\n\u001b[1;32m   1030\u001b[0m     force_all_finite\u001b[39m=\u001b[39;49m\u001b[39m\"\u001b[39;49m\u001b[39mallow-nan\u001b[39;49m\u001b[39m\"\u001b[39;49m,\n\u001b[1;32m   1031\u001b[0m     warn_on_unknown\u001b[39m=\u001b[39;49mwarn_on_unknown,\n\u001b[1;32m   1032\u001b[0m )\n\u001b[1;32m   1034\u001b[0m n_samples, n_features \u001b[39m=\u001b[39m X_int\u001b[39m.\u001b[39mshape\n\u001b[1;32m   1036\u001b[0m \u001b[39mif\u001b[39;00m \u001b[39mself\u001b[39m\u001b[39m.\u001b[39m_drop_idx_after_grouping \u001b[39mis\u001b[39;00m \u001b[39mnot\u001b[39;00m \u001b[39mNone\u001b[39;00m:\n",
      "File \u001b[0;32m~/ML_Projects/airbnbpriceprediction/venv/lib/python3.10/site-packages/sklearn/preprocessing/_encoders.py:200\u001b[0m, in \u001b[0;36m_BaseEncoder._transform\u001b[0;34m(self, X, handle_unknown, force_all_finite, warn_on_unknown, ignore_category_indices)\u001b[0m\n\u001b[1;32m    195\u001b[0m \u001b[39mif\u001b[39;00m handle_unknown \u001b[39m==\u001b[39m \u001b[39m\"\u001b[39m\u001b[39merror\u001b[39m\u001b[39m\"\u001b[39m:\n\u001b[1;32m    196\u001b[0m     msg \u001b[39m=\u001b[39m (\n\u001b[1;32m    197\u001b[0m         \u001b[39m\"\u001b[39m\u001b[39mFound unknown categories \u001b[39m\u001b[39m{0}\u001b[39;00m\u001b[39m in column \u001b[39m\u001b[39m{1}\u001b[39;00m\u001b[39m\"\u001b[39m\n\u001b[1;32m    198\u001b[0m         \u001b[39m\"\u001b[39m\u001b[39m during transform\u001b[39m\u001b[39m\"\u001b[39m\u001b[39m.\u001b[39mformat(diff, i)\n\u001b[1;32m    199\u001b[0m     )\n\u001b[0;32m--> 200\u001b[0m     \u001b[39mraise\u001b[39;00m \u001b[39mValueError\u001b[39;00m(msg)\n\u001b[1;32m    201\u001b[0m \u001b[39melse\u001b[39;00m:\n\u001b[1;32m    202\u001b[0m     \u001b[39mif\u001b[39;00m warn_on_unknown:\n",
      "\u001b[0;31mValueError\u001b[0m: Found unknown categories ['Hampstead Heath', 'London fields hackney', 'Tuckombil', 'Palma de majorqye', '\\x8c 尖沙咀', 'København n ', 'Greenhills', '08014 BARCELONA', 'Plaka - Athens', '香港旺角女人街（中信大厦）', 'Haddington Rd', 'Lamma Island ', 'Montréal-Outremont', 'East Finchley', 'anderlecht ', 'Royal Borough of Kensington and Chelsea ', 'ROXBURY CROSSING', 'Lee green ', 'Wien/', 'Brookyln', 'Barcelona El RAVAL ', 'Brooklyn/Williamsburg', 'Pina (Algaida)', 'Sai Kung ', 'Döbling', 'Brooklyn\\nBrooklyn', \"Shepherd's Bush\", 'Cala Serena (Felanitx)', 'Manchaca', 'Kilternan', 'Colonia Sant Jordi', 'Balham ', 'Blue Knob', 'Siu Sai Wan', 'vanløse', 'Wattle Grove', 'Mission', 'Baile Atha Cliath', 'Mosman Sydney', 'Cala Serena', 'Streatham Hill', 'Paris 8è', 'Londýn', '치펀데일', 'London Fields', 'notting hill', 'Coburg (Melbourne)', 'BE', 'Penia', 'Van nuys', 'Endeavour Hills', 'Centurion Building', 'Dublin 7 ', 'London TW1 2AR', 'Ruffré', 'Ses Olleries', 'palma de Mallorca ', 'Fairy Hill', 'Sandy Point', 'Roxboro', 'Houseboat Chelsea', 'Brooklyn ny ', 'Cypress', 'Гонконг', 'Werrington', 'elmhurst Queens', 'Sainte -Foy', 'Potts point', 'Hampton Court', 'Berlin (Wedding)', 'Fitzroy ', 'Lower East Side', 'Marchmont', 'Granada Hills', 'Cala d`Or - Santanyí', 'Gardena ', 'Tsuen wan ', 'Slidell', 'Daone', 'Badia Gran/Bahia Azul', 'Leith', 'Lugarno', 'Bondi  Sydney', 'Berlin mitte ', '2300', '奥本', '巴黎', 'Rockdale City Council', '威蓝町', 'Sha Tin', 'Los Angeles (North Hollywood)', 'Theresa Creek', 'Chorlton cum Hardy', 'Castello di Fiemme', 'Tyringham', 'Ivry sur Seine', 'Venice - Mestre', 'West Wickham ', 'Horningsea Park', 'Dyssegård', 'Harlem', 'Roma / Trastevere', 'TSEUNG KWAN O', 'Coolgardie', 'Cedar Creek', 'Zocchio', 'Charlottenburg', '3. Bezirk', '10711', 'Phinney Ridge Seattle', 'Calla Millor', '2150', 'wan chai', 'Πλάκα', 'Mooroolbark', 'Cavedago', 'Афины', 'Sherwood Forest', 'Mt Royal', 'Fernleigh', 'Upper Crystal Creek', 'Long Ditton', 'Alexandria ', 'Valcanover', 'London/Wood Green', 'DE', 'NORTH HOLLYWOOD', 'Sa Rapita', 'Paris-3eme-Arrondissement', 'Royal Arsenal Riverside ', 'South Woodford ', 'manacor', 'Castel Fusano - Infernetto ( Roma )', 'Chingford', 'Bernal Heights', 'Wien 15', 'Buena Park', \"Paris-l'Hôpital\", 'Cattai', 'Laken', 'Pacific Plsds', 'Rome-Aurelio', 'Crown Heights ', 'valley village', 'HongKong ', 'Vigo Cavedine', 'Badhoevedorp', 'Wong Tai Sin', 'venezia ', 'roma\\nroma', '上環', 'arco', 'Mestre (VE)', 'Pieve', 'Praharan ', 'Rome ', 'Oakland ', 'Newham', 'Ostia - Rome', 'Port des Canonge / Palma', 'Cala morlanda', 'San Antonio', 'Road Shepherds Bush', 'Lynbrook', 'venice beach', 'Lantau Peak', '킹스턴 어폰 세임스', 'Tione di Trento', 'Brussels-Centre', 'Chalandri', 'Diemen', 'Pedersano', 'Shankill', 'Keilor Downs', 'Cranbourne West', 'magaluf ', 'Elizabeth Bay / Sydney', 'Queens NY', 'Elmuhrust', 'Long Island city ', 'Dublin D03 NP84', 'PALMA DE MALLORCA', 'Burraneer/Cronulla', 'Dartford', 'Rome 00152', 'South End', 'Rileys Hill', 'Landstrasse', '红磡，黄埔', 'Sheungwan ', 'lido di ostia roma', 'London Borough of Richmond upon Thames', 'Clonee', 'terlago', 'Berlin - Schöneberg', 'Østerbro', 'Maroubra Beach', 'Northern Quarter', 'City West', 'Ville del Monte', 'Can Picaford ', 'Rowland height ', 'Tai O', 'elwood', 'Knockrow', 'Ongar Green', 'Nørrebro ', 'vernier', 'Dese -Venice', '香港尖沙咀', 'Cudgera Creek', 'Willesden ', 'Carss Park', 'Canoelands', 'Eivissa', 'Loftus', 'Shepherds Bush ', 'Clapton', 'Reino Unido', 'Williamsburg bk', 'Yau Tsim Mong ', 'Terranora', 'loughshinny', 'Harmondsworth', 'Merrion Road ', 'Lac-Delage', 'Llucmayor', 'Arcadia ', 'Deurne', 'Viry', 'antioch', 'Mezzolombardo', 'Balmoral ', 'Cowan', 'Flavon', 'Oval', 'Sydhavn', 'Pearces Creek', 'Vienna 9.Bezirk', 'londra', '沙田區大圍', 'Saint Clair', 'Middleton Grange', 'pyrmont', 'Stokers Siding Via Dunbible', 'san francisco', 'Jamaica Plain ', 'Albert Park Melbourne', 'Berlin-Kreuzberg', 'East Brunswick ', 'Loughborough Estate', 'Bk', 'Cala bona', 'St Andrews', 'Orchard Hills', 'Santa Ponsa ( Mallorca)', 'Tai Hang (Causeway Bay)', 'Urbanització Bellavista', 'Georgetown', 'Madonna di Campiglio ', 'Ventas', 'Pacific Beach San Diego', 'Sunland', 'Paris 19eme', 'Southfields', 'Дублин', 'Hackney Wick', 'Ocean Beach ', 'Dublin airport ', 'Fitzrovia ', 'Green Lanes', 'Marayong', 'Currans Hill', 'Kipling Estate', 'Ixelles/Elsene', 'BARCELONA CLOT', 'Santa Eugenia', 'Muro ', 'East St. Kilda', 'ozone park queens ', 'Child Lane Greenwich', 'Plainpalais', 'Toronto\\nToronto', 'Playa de Muro BALEARES', 'puerto Andratx', 'Lindendale', 'Cabarita', '沙田大圍 Shatin Taiwai', 'Mitte', '南雅拉', 'Kingston Upon Thames', 'Venice (Los Angeles)', 'Harolds Cross Road', 'Taylors Lakes', 'Cala Santanyí  ', 'Erskineville ', 'Geneve ', 'Mcmahons point', 'Amsterdam West', 'Cambridge Park', 'Valyermo', 'Kogarah ', 'Αθήνα Sepolia ', 'Mount Hermon', 'Hannibal Road', 'Esporlas', 'puerto alcudia', 'Kensal Green', 'Guidonia', '角旺', 'Mid Levels ', 'Central SOHO', 'Berala', 'Favrio', 'Irwin Street', 'Puerto de Pollensa', 'Ap Lei Chau', 'Wandsworth Common ', 'Alsergrund', 'Son Veri Nou ', 'Palmers Green ', 'Kirra beach ', 'ALGAIDA', 'San Bernardo', 'The Ward', 'MADRID', 'Tai Kok Tsui ', \"Madonna di Campiglio - Sant'Antonio di Mavignola\", 'Tottenham London lympne  green  building  green ', 'La Elipa', 'Puplinge', 'Rickmansworth', '2', 'TSIM SHA TSUI', 'Fairlight (Manly)', \"St Leonard's/North Sydney\", 'Casuarina ', 'Molina di Ledro', 'Copenhaguen', 'Paris 09', 'Danderhall', 'pollenca', 'East Village', 'Skye', 'ベニス', 'sheung wan', 'South Woodford', 'Costasavina', 'Paris 07', 'El Toro (Calvia)', 'Choulex', 'Bondi Junction ', 'Toronto/North York', 'hollywood', 'Central Midlevel', 'Geneva-Plan-les-Ouates', 'Cala d or', 'BYRON BAY', 'Berlin-Charlottenburg', 'Phillips Ranch ', 'Albion', 'Shek Tong Tsui', 'London Borough of Ealing', 'Moabit', '灣仔', 'Dunbible', 'Carshalton Beeches', 'Brussels ', 'Bronte ', 'LA CROIX-DE-ROZON', 'Tragliatella Campitello', 'ostia ', 'EL ARENAL', 'Kirkham', 'Deptford', 'swords', 'Calla Mendia', 'Biggin Hill', 'ΠΕΤΡΆΛΩΝΑ', 'Mission Valley', 'saint mandé', 'Santa Maria', 'Hongkong ', 'BINISSALEM', 'Rowland heights ', 'Pearcedale', 'zetland', 'Città Metropolitana di Venezia', 'Kbh. V', 'Jardan', 'Ciampino Aeroporto', 'North point ', 'Malé', 'Kingston ', 'UCCLE', 'FRB', \"Paris  ( près de la  Gare du Nord RER B: direct d'Orly et de Roissy\", 'Hong Kong  Tsim Sha Tsui', 'Menzies Creek', 'Balmain / Birchgrove', '芒特韦弗利区', 'Manly/Queenscliff', 'Forest hills', 'MURANO VENEZIA', '75020 Paris', 'Kurnell', 'Vaticano', 'GRANADA HILLS', 'NEW YORK', 'Newbridge', '九龙', 'Tottenham Hale', 'Cas catala ', '07560', 'Bcn', 'Austin station Jordan ', 'SOUTH GOLDEN BEACH', 'east Boston ', 'kingsbury', 'South Bermondsey', 'Rozelle / Balmain', 'Anjou', 'Bend Of Islands', 'Isle of Dogs', \"Dolphin's Barn\", 'queens', 'Bow', 'BRUSSEL ( STAD )', 'Frederiksberg/ Copenhagen ', '75016', 'Central Midlevels', 'binissalem', '哈罗', 'torrenova', 'Copenhagen S ', 'S´Horta', 'North Curl Curl (near Manly)', \"Sant'Orsola Terme\", 'Briar Hill', 'San Pietro Roma', 'Porto Petro', 'Copenhagen W', 'Campo Carlo Magno - Località Plan', 'Josefstadt', 'Road Stoke Newington', 'vanves', '西貢區', 'Fondo', 'Grumes', 'Sa Font Seca', 'Tai Po District', 'Water Gardens Square', 'Vetriolo Terme', 'North Finchley', 'Soquel -Santa Cruz', \"s'Almunia\", 'Crumlin Village', 'Campestrini', 'jamaica', 'Seven Hills', 'woodland hills', 'Seven Hills    ', 'Llubi', 'Genève Champel', 'Chum Creek/Healesville', 'Balgriffin ', 'Acropoli Koukaki ', 'Motspur Park', 'Studio city ', 'City West ', 'colonia de sant Jordi', 'Dalry', 'Greenpoint ', 'SA CABANETA', 'Stratford London', 'Geneve', 'Wanstead', 'cala figuera', 'moscari', 'Αθηναίων', 'Playas de Muro', 'Carroll Gardens', '2500', 'Redo do beach', 'Pakenham Upper', 'Virti', 'Roveré della Luna', 'Kings Langley', 'Harolds Cross', 'Copenhagen Ø', 'Loughshinny', '旺角亞皆老街83號 (83 Argyle St. Mong Kong)', 'Heathrow ', 'Upper Wilsons Creek', 'Mornington Crescent', 'Stretford', 'Sant adria de besos', 'Drena', 'sherman oaks', 'Grove Park', '威尼斯Venezia', 'Alcanada', 'Lysterfield', 'Kilmacud', 'Athina-Plaka', 'st kilda east', 'Carool', 'Rudolfsheim-Fünfhaus', 'San Marco', 'VENEZIA', 'Prahran / Toorak ', 'Staten island ', 'York Road', 'Spain', 'Sylmar', 'Barcelona Sant Andreu de Palomar', 'Manacor - Calas de Mallorca', 'Es Secar de la Real', 'University heights', 'Seregnano', 'Galilea ', 'Portland ', 'ParisParis', 'Rollingwood', 'Brussels - Anderlecht', 'Kingsbury', 'Beverly Hills ', 'North Fitzroy ', 'Greystanes ', 'East Finchley ', 'Antwerpen Borgerhout', 'Celbridge', 'puerto Pollença', 'Piano', 'Bondi Junction Sydney ', 'Fawkner', 'LLENAIRE', 'Ivanhoe (Melbourne)', 'Prestons', 'Lavarone Trento', 'Torvaianica', 'Kbh sv', 'Mitte-Berlin', 'Colinton', 'Woodhaven ', 'Bruxelles Schaerbeek', 'Cinecitta', 'wien ottakring', 'Enguiso', 'Phillip Bay', 'København k ', 'Berlin-Wedding', 'Ampelokipi', 'Inchicore ', 'Alberoni', 'Olgiata', 'West Hoxton', 'Ledro - Mezzolago', 'Berlin Schöneberg', 'Malakoff', 'Glencullen ', 'Sham Shui Po District', 'Windsor Hills', 'Manacor - S´Espinagar', 'Los ', '宝活', 'Mount Toolebewong', 'Castel di Leva', 'Midlevels ', 'Lido di Venezia ', 'Sans Souci ', 'Old Toongabbie', 'Sa torre', '柏林', 'inca', 'VIGO DI FASSA', 'Nine Elms', 'Амстердам', 'New Cross ', 'Londo', 'Lismore Heights', 'northolt london', 'East Twickenham', '00165', 'Nørrrebro', 'Peckham London ', 'North Lotts', 'Hampstead ', 'Little bay', 'Рим', 'Tsim sha tsui ', '九龍 Kowloon', 'Eastern District', 'PorreresPalma de Mallorca', 'st kikda east', 'Staineri', 'KBH V ', \"Port d'es Canonge\", 'Ses Cadenes', 'Calvià - Magalluf', 'Roma trastevere', 'Eltham North', 'αθηνα', 'Le Plateau', 'eaglemont ', 'Berlin Weißensee', 'Christchuch', 'pto Alcúdia', 'ウィーン', 'Berlin Mitte', 'St. Albans', 'Serrada', 'Manly beacon hill ', 'Berlin Prenzlauer Berg ', 'Toronto M5S 2L6', 'South Kensington Station', 'København n', 'NT ', 'Sa Marineta', 'Dublin 6w', 'Kenney Town ', '旺角 (Mong Kong)', 'La Jolla San Diego', 'Los Angeles90064', 'Sai Kung District', 'Rue de Turenne', 'Kirrawee', 'Segonzano', \"Shephard's Bush\", '7. Bezirk', 'Brigittenau', 'BRUNSWICK EAST', 'Quartz Hill', 'Copenhagen N (Nørrebro)', 'Tooting Bec', 'Springvale South', 'Brimbank City', 'Venise Dorsoduro', 'Sint-Agatha-Berchem', 'City of London', 'Wapping', 'Templestowe Lower', 'Dolls Point ', 'Byron Bay ', 'Juniper drive', 'Oxford Falls', 'Macquarie Fields', 'Doreen', 'Alstonvale', 'Queens/Corona/New York', \"Hell's Kitchen\", 'Castel Spine fraz. Lundo (TN)', 'MIDDLE VILLAGE', 'Athina ', 'Vesterbro ', 'sa torre', 'Halfweg', 'Broadway', 'Terlago', 'Beauport', 'Armadale North', 'Fresh Meadows', 'Lucas Close', 'villa verde bajo', 'Quarry Bay ', 'BATTERSEA', 'Montuïri/Randa', 'Leonay', 'Toluca lake', 'Beverly Hills/Los Angeles', 'Oakhurst', 'Clyde North', 'Mississauga', 'Beattock Close', 'Nederland', 'Park Slope', 'Santry Cross', 'Causeway bay', 'Hung Hom ', 'Wiedeń', 'Dublin 6W', 'North Hollywood/Burbank', 'Cala Santanyi ', 'Castleforbes Road', \"Cala s'Almonia\", 'Llandilo', 'deia', 'Hackney road', 'Connells Point'] in column 2 during transform"
     ]
    }
   ],
   "source": [
    "X_train = preprocessor.fit_transform(X_train)\n",
    "X_test = preprocessor.transform(X_test)"
   ]
  },
  {
   "cell_type": "code",
   "execution_count": null,
   "metadata": {},
   "outputs": [],
   "source": []
  }
 ],
 "metadata": {
  "kernelspec": {
   "display_name": "venv",
   "language": "python",
   "name": "python3"
  },
  "language_info": {
   "codemirror_mode": {
    "name": "ipython",
    "version": 3
   },
   "file_extension": ".py",
   "mimetype": "text/x-python",
   "name": "python",
   "nbconvert_exporter": "python",
   "pygments_lexer": "ipython3",
   "version": "3.10.9"
  },
  "orig_nbformat": 4
 },
 "nbformat": 4,
 "nbformat_minor": 2
}
