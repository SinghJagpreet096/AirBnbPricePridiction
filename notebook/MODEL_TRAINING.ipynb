{
 "cells": [
  {
   "cell_type": "markdown",
   "metadata": {},
   "source": [
    "## MODEL TRAINING\n",
    "- Import Data and Required Packages"
   ]
  },
  {
   "cell_type": "code",
   "execution_count": 16,
   "metadata": {},
   "outputs": [],
   "source": [
    "import numpy as np\n",
    "import pandas as pd\n",
    "\n",
    "\n",
    "## modelling \n",
    "\n",
    "from sklearn.model_selection import train_test_split\n",
    "\n",
    "\n",
    "## preprocessing\n",
    "from sklearn.preprocessing import OneHotEncoder,LabelEncoder, StandardScaler, MinMaxScaler\n",
    "from sklearn.compose import ColumnTransformer\n",
    "from sklearn.pipeline import Pipeline\n",
    "\n",
    "## metrics\n",
    "\n",
    "from sklearn.metrics import mean_squared_error,mean_absolute_error, r2_score\n",
    "\n",
    "## models\n",
    "\n",
    "from sklearn.linear_model import LinearRegression,Ridge, Lasso\n",
    "from sklearn.tree import DecisionTreeRegressor\n",
    "from sklearn.ensemble import RandomForestRegressor, AdaBoostRegressor\n",
    "from xgboost import XGBRegressor\n",
    "\n"
   ]
  },
  {
   "cell_type": "code",
   "execution_count": 2,
   "metadata": {},
   "outputs": [],
   "source": [
    "df = pd.read_csv(\"train.csv\")"
   ]
  },
  {
   "cell_type": "code",
   "execution_count": 3,
   "metadata": {},
   "outputs": [
    {
     "data": {
      "text/html": [
       "<div>\n",
       "<style scoped>\n",
       "    .dataframe tbody tr th:only-of-type {\n",
       "        vertical-align: middle;\n",
       "    }\n",
       "\n",
       "    .dataframe tbody tr th {\n",
       "        vertical-align: top;\n",
       "    }\n",
       "\n",
       "    .dataframe thead th {\n",
       "        text-align: right;\n",
       "    }\n",
       "</style>\n",
       "<table border=\"1\" class=\"dataframe\">\n",
       "  <thead>\n",
       "    <tr style=\"text-align: right;\">\n",
       "      <th></th>\n",
       "      <th>smartlocation</th>\n",
       "      <th>roomtype</th>\n",
       "      <th>price</th>\n",
       "      <th>minimumnights</th>\n",
       "      <th>availability365</th>\n",
       "      <th>numberofreviews</th>\n",
       "      <th>reviewscoresrating</th>\n",
       "      <th>cancellationpolicy</th>\n",
       "    </tr>\n",
       "  </thead>\n",
       "  <tbody>\n",
       "    <tr>\n",
       "      <th>0</th>\n",
       "      <td>Amsterdam</td>\n",
       "      <td>Entire home/apt</td>\n",
       "      <td>600.0</td>\n",
       "      <td>2.0</td>\n",
       "      <td>74.0</td>\n",
       "      <td>31.0</td>\n",
       "      <td>89.0</td>\n",
       "      <td>strict</td>\n",
       "    </tr>\n",
       "    <tr>\n",
       "      <th>1</th>\n",
       "      <td>Amsterdam</td>\n",
       "      <td>Entire home/apt</td>\n",
       "      <td>175.0</td>\n",
       "      <td>2.0</td>\n",
       "      <td>259.0</td>\n",
       "      <td>15.0</td>\n",
       "      <td>99.0</td>\n",
       "      <td>strict</td>\n",
       "    </tr>\n",
       "    <tr>\n",
       "      <th>2</th>\n",
       "      <td>Amsterdam</td>\n",
       "      <td>Entire home/apt</td>\n",
       "      <td>125.0</td>\n",
       "      <td>4.0</td>\n",
       "      <td>0.0</td>\n",
       "      <td>1.0</td>\n",
       "      <td>100.0</td>\n",
       "      <td>flexible</td>\n",
       "    </tr>\n",
       "    <tr>\n",
       "      <th>3</th>\n",
       "      <td>Amsterdam</td>\n",
       "      <td>Entire home/apt</td>\n",
       "      <td>130.0</td>\n",
       "      <td>3.0</td>\n",
       "      <td>0.0</td>\n",
       "      <td>22.0</td>\n",
       "      <td>97.0</td>\n",
       "      <td>flexible</td>\n",
       "    </tr>\n",
       "    <tr>\n",
       "      <th>4</th>\n",
       "      <td>Amsterdam</td>\n",
       "      <td>Entire home/apt</td>\n",
       "      <td>80.0</td>\n",
       "      <td>2.0</td>\n",
       "      <td>326.0</td>\n",
       "      <td>16.0</td>\n",
       "      <td>78.0</td>\n",
       "      <td>moderate</td>\n",
       "    </tr>\n",
       "  </tbody>\n",
       "</table>\n",
       "</div>"
      ],
      "text/plain": [
       "  smartlocation         roomtype  price  minimumnights  availability365  \\\n",
       "0     Amsterdam  Entire home/apt  600.0            2.0             74.0   \n",
       "1     Amsterdam  Entire home/apt  175.0            2.0            259.0   \n",
       "2     Amsterdam  Entire home/apt  125.0            4.0              0.0   \n",
       "3     Amsterdam  Entire home/apt  130.0            3.0              0.0   \n",
       "4     Amsterdam  Entire home/apt   80.0            2.0            326.0   \n",
       "\n",
       "   numberofreviews  reviewscoresrating cancellationpolicy  \n",
       "0             31.0                89.0             strict  \n",
       "1             15.0                99.0             strict  \n",
       "2              1.0               100.0           flexible  \n",
       "3             22.0                97.0           flexible  \n",
       "4             16.0                78.0           moderate  "
      ]
     },
     "execution_count": 3,
     "metadata": {},
     "output_type": "execute_result"
    }
   ],
   "source": [
    "df.head()"
   ]
  },
  {
   "cell_type": "code",
   "execution_count": 4,
   "metadata": {},
   "outputs": [
    {
     "data": {
      "text/html": [
       "<div>\n",
       "<style scoped>\n",
       "    .dataframe tbody tr th:only-of-type {\n",
       "        vertical-align: middle;\n",
       "    }\n",
       "\n",
       "    .dataframe tbody tr th {\n",
       "        vertical-align: top;\n",
       "    }\n",
       "\n",
       "    .dataframe thead th {\n",
       "        text-align: right;\n",
       "    }\n",
       "</style>\n",
       "<table border=\"1\" class=\"dataframe\">\n",
       "  <thead>\n",
       "    <tr style=\"text-align: right;\">\n",
       "      <th></th>\n",
       "      <th>smartlocation</th>\n",
       "      <th>roomtype</th>\n",
       "      <th>price</th>\n",
       "      <th>minimumnights</th>\n",
       "      <th>availability365</th>\n",
       "      <th>numberofreviews</th>\n",
       "      <th>reviewscoresrating</th>\n",
       "      <th>cancellationpolicy</th>\n",
       "    </tr>\n",
       "  </thead>\n",
       "  <tbody>\n",
       "    <tr>\n",
       "      <th>345367</th>\n",
       "      <td>Parkdale</td>\n",
       "      <td>Entire home/apt</td>\n",
       "      <td>79.0</td>\n",
       "      <td>1.0</td>\n",
       "      <td>97.0</td>\n",
       "      <td>12.0</td>\n",
       "      <td>95.0</td>\n",
       "      <td>flexible</td>\n",
       "    </tr>\n",
       "    <tr>\n",
       "      <th>345368</th>\n",
       "      <td>Yarraville</td>\n",
       "      <td>Entire home/apt</td>\n",
       "      <td>189.0</td>\n",
       "      <td>3.0</td>\n",
       "      <td>364.0</td>\n",
       "      <td>4.0</td>\n",
       "      <td>95.0</td>\n",
       "      <td>flexible</td>\n",
       "    </tr>\n",
       "    <tr>\n",
       "      <th>345369</th>\n",
       "      <td>Footscray</td>\n",
       "      <td>Private room</td>\n",
       "      <td>30.0</td>\n",
       "      <td>1.0</td>\n",
       "      <td>0.0</td>\n",
       "      <td>4.0</td>\n",
       "      <td>60.0</td>\n",
       "      <td>moderate</td>\n",
       "    </tr>\n",
       "    <tr>\n",
       "      <th>345370</th>\n",
       "      <td>Yarraville</td>\n",
       "      <td>Private room</td>\n",
       "      <td>42.0</td>\n",
       "      <td>7.0</td>\n",
       "      <td>358.0</td>\n",
       "      <td>9.0</td>\n",
       "      <td>93.0</td>\n",
       "      <td>moderate</td>\n",
       "    </tr>\n",
       "    <tr>\n",
       "      <th>345371</th>\n",
       "      <td>West Footscray</td>\n",
       "      <td>Private room</td>\n",
       "      <td>33.0</td>\n",
       "      <td>3.0</td>\n",
       "      <td>337.0</td>\n",
       "      <td>3.0</td>\n",
       "      <td>100.0</td>\n",
       "      <td>strict</td>\n",
       "    </tr>\n",
       "  </tbody>\n",
       "</table>\n",
       "</div>"
      ],
      "text/plain": [
       "         smartlocation         roomtype  price  minimumnights  \\\n",
       "345367        Parkdale  Entire home/apt   79.0            1.0   \n",
       "345368      Yarraville  Entire home/apt  189.0            3.0   \n",
       "345369       Footscray     Private room   30.0            1.0   \n",
       "345370      Yarraville     Private room   42.0            7.0   \n",
       "345371  West Footscray     Private room   33.0            3.0   \n",
       "\n",
       "        availability365  numberofreviews  reviewscoresrating  \\\n",
       "345367             97.0             12.0                95.0   \n",
       "345368            364.0              4.0                95.0   \n",
       "345369              0.0              4.0                60.0   \n",
       "345370            358.0              9.0                93.0   \n",
       "345371            337.0              3.0               100.0   \n",
       "\n",
       "       cancellationpolicy  \n",
       "345367           flexible  \n",
       "345368           flexible  \n",
       "345369           moderate  \n",
       "345370           moderate  \n",
       "345371             strict  "
      ]
     },
     "execution_count": 4,
     "metadata": {},
     "output_type": "execute_result"
    }
   ],
   "source": [
    "df.tail()"
   ]
  },
  {
   "cell_type": "code",
   "execution_count": 5,
   "metadata": {},
   "outputs": [
    {
     "name": "stdout",
     "output_type": "stream",
     "text": [
      "shape of X: (345372, 7)\n",
      "shape of y: (345372,)\n"
     ]
    }
   ],
   "source": [
    "## dependent and independent features\n",
    "\n",
    "X = df.drop('price',axis=1)\n",
    "y = df.price\n",
    "\n",
    "\n",
    "print(f\"shape of X: {X.shape}\")\n",
    "print(f\"shape of y: {y.shape}\")"
   ]
  },
  {
   "cell_type": "code",
   "execution_count": 8,
   "metadata": {},
   "outputs": [
    {
     "name": "stdout",
     "output_type": "stream",
     "text": [
      "shape of X_train: (241760, 7)\n",
      "shape of X_test: (103612, 7)\n",
      "\n",
      "shape of y_train: (241760,)\n",
      "shape of y_test: (103612,)\n"
     ]
    }
   ],
   "source": [
    "cat_cols_ohe = ['roomtype','cancellationpolicy','smartlocation']\n",
    "\n",
    "num_cols_st = ['minimumnights','numberofreviews']\n",
    "num_cols_minmax = ['availability365','reviewscoresrating']\n",
    "\n",
    "\n",
    "\n",
    "\n",
    "\n",
    "preprocessor = ColumnTransformer([\n",
    "    \n",
    "    # ('lbe',LabelEncoder(),list(cat_cols_lb)),\n",
    "    ('ohe',OneHotEncoder(handle_unknown='ignore'),cat_cols_ohe),\n",
    "    ('minmax',MinMaxScaler(),num_cols_minmax),\n",
    "    ('ss',StandardScaler(),num_cols_st)\n",
    "    \n",
    "])\n",
    "\n",
    "\n",
    "X_train, X_test, y_train, y_test = train_test_split(X, y, test_size=0.3, random_state=9)\n",
    "\n",
    "\n",
    "print(f\"shape of X_train: {X_train.shape}\")\n",
    "print(f\"shape of X_test: {X_test.shape}\\n\")\n",
    "print(f\"shape of y_train: {y_train.shape}\")\n",
    "print(f\"shape of y_test: {y_test.shape}\")\n",
    "\n"
   ]
  },
  {
   "cell_type": "code",
   "execution_count": null,
   "metadata": {},
   "outputs": [],
   "source": [
    "\n"
   ]
  },
  {
   "cell_type": "code",
   "execution_count": 9,
   "metadata": {},
   "outputs": [],
   "source": [
    "X_train = preprocessor.fit_transform(X_train)\n",
    "X_test = preprocessor.transform(X_test)"
   ]
  },
  {
   "cell_type": "code",
   "execution_count": 11,
   "metadata": {},
   "outputs": [
    {
     "name": "stdout",
     "output_type": "stream",
     "text": [
      "shape of X_train: (241760, 3755)\n",
      "shape of X_test: (103612, 3755)\n"
     ]
    }
   ],
   "source": [
    "print(f\"shape of X_train: {X_train.shape}\")\n",
    "print(f\"shape of X_test: {X_test.shape}\")"
   ]
  },
  {
   "cell_type": "markdown",
   "metadata": {},
   "source": [
    "## MODEL TRAINING"
   ]
  },
  {
   "cell_type": "code",
   "execution_count": 14,
   "metadata": {},
   "outputs": [],
   "source": [
    "def evaluate_model(actual, predicted):\n",
    "    \n",
    "    \"\"\"\n",
    "    returns mae, mse, rmse, r2\n",
    "    \"\"\"\n",
    "\n",
    "    mae = mean_absolute_error(actual,predicted)\n",
    "    mse = mean_squared_error(actual, predicted)\n",
    "    rmse = np.sqrt(mean_squared_error(actual, predicted))\n",
    "    r2 = r2_score(actual, predicted)\n",
    "    return mae, mse, rmse, r2"
   ]
  },
  {
   "cell_type": "code",
   "execution_count": 19,
   "metadata": {},
   "outputs": [
    {
     "ename": "TypeError",
     "evalue": "'dict_keys' object is not subscriptable",
     "output_type": "error",
     "traceback": [
      "\u001b[0;31m---------------------------------------------------------------------------\u001b[0m",
      "\u001b[0;31mTypeError\u001b[0m                                 Traceback (most recent call last)",
      "\u001b[1;32m/Users/jagpreetsingh/ML_Projects/airbnbpriceprediction/notebook/MODEL_TRAINING.ipynb Cell 13\u001b[0m line \u001b[0;36m3\n\u001b[1;32m     <a href='vscode-notebook-cell:/Users/jagpreetsingh/ML_Projects/airbnbpriceprediction/notebook/MODEL_TRAINING.ipynb#X16sZmlsZQ%3D%3D?line=27'>28</a>\u001b[0m train_mae, train_mse, train_rmse, train_r2 \u001b[39m=\u001b[39m evaluate_model(y_train, y_train_pred)\n\u001b[1;32m     <a href='vscode-notebook-cell:/Users/jagpreetsingh/ML_Projects/airbnbpriceprediction/notebook/MODEL_TRAINING.ipynb#X16sZmlsZQ%3D%3D?line=28'>29</a>\u001b[0m test_mae, test_mse, test_rmse, test_r2 \u001b[39m=\u001b[39m evaluate_model(y_test, y_test_pred)\n\u001b[0;32m---> <a href='vscode-notebook-cell:/Users/jagpreetsingh/ML_Projects/airbnbpriceprediction/notebook/MODEL_TRAINING.ipynb#X16sZmlsZQ%3D%3D?line=30'>31</a>\u001b[0m \u001b[39mprint\u001b[39m(\u001b[39mlist\u001b[39m(models\u001b[39m.\u001b[39;49mkeys()[i]))\n\u001b[1;32m     <a href='vscode-notebook-cell:/Users/jagpreetsingh/ML_Projects/airbnbpriceprediction/notebook/MODEL_TRAINING.ipynb#X16sZmlsZQ%3D%3D?line=31'>32</a>\u001b[0m model_list\u001b[39m.\u001b[39mappend(\u001b[39mlist\u001b[39m(models\u001b[39m.\u001b[39mkeys())[i])\n\u001b[1;32m     <a href='vscode-notebook-cell:/Users/jagpreetsingh/ML_Projects/airbnbpriceprediction/notebook/MODEL_TRAINING.ipynb#X16sZmlsZQ%3D%3D?line=34'>35</a>\u001b[0m \u001b[39mprint\u001b[39m(\u001b[39mf\u001b[39m\u001b[39m\"\u001b[39m\u001b[39mModel performance on training data\u001b[39m\u001b[39m\\n\u001b[39;00m\u001b[39m\"\u001b[39m)\n",
      "\u001b[0;31mTypeError\u001b[0m: 'dict_keys' object is not subscriptable"
     ]
    }
   ],
   "source": [
    "models = {\n",
    "    \"LinearRegression\":LinearRegression(),\n",
    "    \"Ridge\":Ridge(),\n",
    "    \"Lasso\":Lasso(),\n",
    "    \"DecisionTreeRegressor\":DecisionTreeRegressor(),\n",
    "    \"RandomForestRegressor\":RandomForestRegressor(),\n",
    "    \"AdaBoostRegressor\":AdaBoostRegressor(),\n",
    "    \"XGBRegressor\":XGBRegressor()\n",
    "}\n",
    "\n",
    "model_list = []\n",
    "r2_list = []\n",
    "\n",
    "for i in range(len(list(models))):\n",
    "    ## define model\n",
    "    model = list(models.values())[i]\n",
    "\n",
    "    # train model\n",
    "    model.fit(X_train,y_train)\n",
    "\n",
    "    ## predict\n",
    "\n",
    "    y_train_pred = model.predict(X_train)\n",
    "    y_test_pred = model.predict(X_test)\n",
    "\n",
    "    ## evaluate model\n",
    "\n",
    "    train_mae, train_mse, train_rmse, train_r2 = evaluate_model(y_train, y_train_pred)\n",
    "    test_mae, test_mse, test_rmse, test_r2 = evaluate_model(y_test, y_test_pred)\n",
    "\n",
    "    print(list(models.keys())[i])\n",
    "    model_list.append(list(models.keys())[i])\n",
    "\n",
    "\n",
    "    print(f\"Model performance on training data\\n\")\n",
    "\n",
    "    print(f\" - Mean Absolute Error: {train_mae} \")\n",
    "    print(f\" - Mean Squared Error: {train_mse} \")\n",
    "    print(f\" - Root Mean Squared Error: {train_rmse} \")\n",
    "    print(f\" - R2 Score: {train_r2} \")\n",
    "\n",
    "\n",
    "    print(\"###########################################################\\n\")\n",
    "\n",
    "    print(f\"Model Performance on test data\\n\")\n",
    "\n",
    "    print(f\" - Mean Absolute Error: {test_mae} \")\n",
    "    print(f\" - Mean Squared Error: {test_mse} \")\n",
    "    print(f\" - Root Mean Squared Error: {test_rmse} \")\n",
    "    print(f\" - R2 Score: {test_r2} \")\n",
    "\n",
    "    r2_list.append(test_r2)\n",
    "\n",
    "\n",
    "\n",
    "\n",
    "    \n",
    "\n"
   ]
  },
  {
   "cell_type": "code",
   "execution_count": null,
   "metadata": {},
   "outputs": [],
   "source": []
  }
 ],
 "metadata": {
  "kernelspec": {
   "display_name": "venv",
   "language": "python",
   "name": "python3"
  },
  "language_info": {
   "codemirror_mode": {
    "name": "ipython",
    "version": 3
   },
   "file_extension": ".py",
   "mimetype": "text/x-python",
   "name": "python",
   "nbconvert_exporter": "python",
   "pygments_lexer": "ipython3",
   "version": "3.10.9"
  },
  "orig_nbformat": 4
 },
 "nbformat": 4,
 "nbformat_minor": 2
}
